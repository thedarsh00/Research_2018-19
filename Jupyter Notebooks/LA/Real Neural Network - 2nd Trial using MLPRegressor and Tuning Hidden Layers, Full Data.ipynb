{
 "cells": [
  {
   "cell_type": "code",
   "execution_count": 1,
   "metadata": {},
   "outputs": [],
   "source": [
    "%matplotlib inline               \n",
    "import pandas as pd\n",
    "import numpy as np\n",
    "import matplotlib.pyplot as plt"
   ]
  },
  {
   "cell_type": "code",
   "execution_count": 2,
   "metadata": {},
   "outputs": [],
   "source": [
    "df = pd.read_csv('la data total.csv')"
   ]
  },
  {
   "cell_type": "code",
   "execution_count": 3,
   "metadata": {},
   "outputs": [
    {
     "data": {
      "text/html": [
       "<div>\n",
       "<style scoped>\n",
       "    .dataframe tbody tr th:only-of-type {\n",
       "        vertical-align: middle;\n",
       "    }\n",
       "\n",
       "    .dataframe tbody tr th {\n",
       "        vertical-align: top;\n",
       "    }\n",
       "\n",
       "    .dataframe thead th {\n",
       "        text-align: right;\n",
       "    }\n",
       "</style>\n",
       "<table border=\"1\" class=\"dataframe\">\n",
       "  <thead>\n",
       "    <tr style=\"text-align: right;\">\n",
       "      <th></th>\n",
       "      <th>Daily Mean PM2.5 Concentration</th>\n",
       "      <th>Max Temp</th>\n",
       "      <th>Avg Dew Point</th>\n",
       "      <th>Max Wind Speed</th>\n",
       "      <th>Avg Humidity</th>\n",
       "    </tr>\n",
       "  </thead>\n",
       "  <tbody>\n",
       "    <tr>\n",
       "      <th>0</th>\n",
       "      <td>8.3</td>\n",
       "      <td>63</td>\n",
       "      <td>25</td>\n",
       "      <td>15</td>\n",
       "      <td>37.0</td>\n",
       "    </tr>\n",
       "    <tr>\n",
       "      <th>1</th>\n",
       "      <td>14.3</td>\n",
       "      <td>68</td>\n",
       "      <td>21</td>\n",
       "      <td>7</td>\n",
       "      <td>35.0</td>\n",
       "    </tr>\n",
       "    <tr>\n",
       "      <th>2</th>\n",
       "      <td>12.2</td>\n",
       "      <td>57</td>\n",
       "      <td>28</td>\n",
       "      <td>6</td>\n",
       "      <td>47.0</td>\n",
       "    </tr>\n",
       "    <tr>\n",
       "      <th>3</th>\n",
       "      <td>22.3</td>\n",
       "      <td>59</td>\n",
       "      <td>42</td>\n",
       "      <td>6</td>\n",
       "      <td>69.0</td>\n",
       "    </tr>\n",
       "    <tr>\n",
       "      <th>4</th>\n",
       "      <td>40.3</td>\n",
       "      <td>61</td>\n",
       "      <td>43</td>\n",
       "      <td>7</td>\n",
       "      <td>72.0</td>\n",
       "    </tr>\n",
       "  </tbody>\n",
       "</table>\n",
       "</div>"
      ],
      "text/plain": [
       "   Daily Mean PM2.5 Concentration  Max Temp  Avg Dew Point  Max Wind Speed  \\\n",
       "0                             8.3        63             25              15   \n",
       "1                            14.3        68             21               7   \n",
       "2                            12.2        57             28               6   \n",
       "3                            22.3        59             42               6   \n",
       "4                            40.3        61             43               7   \n",
       "\n",
       "   Avg Humidity  \n",
       "0          37.0  \n",
       "1          35.0  \n",
       "2          47.0  \n",
       "3          69.0  \n",
       "4          72.0  "
      ]
     },
     "execution_count": 3,
     "metadata": {},
     "output_type": "execute_result"
    }
   ],
   "source": [
    "df.head()"
   ]
  },
  {
   "cell_type": "code",
   "execution_count": 4,
   "metadata": {},
   "outputs": [
    {
     "data": {
      "text/plain": [
       "(3444, 5)"
      ]
     },
     "execution_count": 4,
     "metadata": {},
     "output_type": "execute_result"
    }
   ],
   "source": [
    "df.shape"
   ]
  },
  {
   "cell_type": "code",
   "execution_count": 5,
   "metadata": {},
   "outputs": [],
   "source": [
    "X = df.drop('Daily Mean PM2.5 Concentration',axis=1)\n",
    "y = df['Daily Mean PM2.5 Concentration']"
   ]
  },
  {
   "cell_type": "code",
   "execution_count": 6,
   "metadata": {},
   "outputs": [],
   "source": [
    "df = df.reset_index()"
   ]
  },
  {
   "cell_type": "code",
   "execution_count": 7,
   "metadata": {},
   "outputs": [],
   "source": [
    "from sklearn.model_selection import train_test_split\n",
    "X_train, X_test, y_train, y_test = train_test_split(X, y, test_size = 0.2, random_state = 0)"
   ]
  },
  {
   "cell_type": "code",
   "execution_count": 8,
   "metadata": {},
   "outputs": [
    {
     "data": {
      "text/plain": [
       "(2755, 4)"
      ]
     },
     "execution_count": 8,
     "metadata": {},
     "output_type": "execute_result"
    }
   ],
   "source": [
    "X_train.shape"
   ]
  },
  {
   "cell_type": "code",
   "execution_count": 9,
   "metadata": {},
   "outputs": [
    {
     "data": {
      "text/plain": [
       "(689, 4)"
      ]
     },
     "execution_count": 9,
     "metadata": {},
     "output_type": "execute_result"
    }
   ],
   "source": [
    "X_test.shape"
   ]
  },
  {
   "cell_type": "code",
   "execution_count": 10,
   "metadata": {},
   "outputs": [
    {
     "data": {
      "text/plain": [
       "(2755,)"
      ]
     },
     "execution_count": 10,
     "metadata": {},
     "output_type": "execute_result"
    }
   ],
   "source": [
    "y_train.shape"
   ]
  },
  {
   "cell_type": "code",
   "execution_count": 11,
   "metadata": {},
   "outputs": [
    {
     "data": {
      "text/plain": [
       "(689,)"
      ]
     },
     "execution_count": 11,
     "metadata": {},
     "output_type": "execute_result"
    }
   ],
   "source": [
    "y_test.shape"
   ]
  },
  {
   "cell_type": "code",
   "execution_count": 12,
   "metadata": {},
   "outputs": [],
   "source": [
    "from sklearn.preprocessing import StandardScaler\n",
    "scaler = StandardScaler()"
   ]
  },
  {
   "cell_type": "code",
   "execution_count": 13,
   "metadata": {},
   "outputs": [
    {
     "data": {
      "text/plain": [
       "Max Temp            int64\n",
       "Avg Dew Point       int64\n",
       "Max Wind Speed      int64\n",
       "Avg Humidity      float64\n",
       "dtype: object"
      ]
     },
     "execution_count": 13,
     "metadata": {},
     "output_type": "execute_result"
    }
   ],
   "source": [
    "X_train.dtypes"
   ]
  },
  {
   "cell_type": "code",
   "execution_count": 14,
   "metadata": {},
   "outputs": [
    {
     "data": {
      "text/plain": [
       "StandardScaler(copy=True, with_mean=True, with_std=True)"
      ]
     },
     "execution_count": 14,
     "metadata": {},
     "output_type": "execute_result"
    }
   ],
   "source": [
    "scaler.fit(X_train)"
   ]
  },
  {
   "cell_type": "code",
   "execution_count": 15,
   "metadata": {},
   "outputs": [],
   "source": [
    "X_train = scaler.transform(X_train)\n",
    "X_test = scaler.transform(X_test)"
   ]
  },
  {
   "cell_type": "code",
   "execution_count": 16,
   "metadata": {},
   "outputs": [],
   "source": [
    "from sklearn.neural_network import MLPRegressor\n",
    "from sklearn.model_selection import cross_val_score\n",
    "from sklearn.utils import shuffle"
   ]
  },
  {
   "cell_type": "code",
   "execution_count": 17,
   "metadata": {},
   "outputs": [],
   "source": [
    "n=3 # how many times to shuffle the training data\n",
    "nhn_range=[1, 2, 4, 6, 8, 10] # number of hidden neurons"
   ]
  },
  {
   "cell_type": "code",
   "execution_count": 18,
   "metadata": {},
   "outputs": [],
   "source": [
    "score_dict = {}\n",
    "for nhn in nhn_range:\n",
    "    mlp = MLPRegressor(hidden_layer_sizes=(nhn,), activation='relu', \n",
    "                       solver='adam', shuffle=False, random_state=42, \n",
    "                       max_iter=2000, momentum=0.7, early_stopping=True, \n",
    "                       validation_fraction=0.15)\n",
    "\n",
    "\n",
    "    nhn_scores = []\n",
    "    for _ in range(n):\n",
    "\n",
    "        X_train = shuffle(X_train)\n",
    "        score = np.sqrt(-cross_val_score(mlp, X_train, \n",
    "                    y_train, \n",
    "                    cv=5, scoring='neg_mean_squared_error')).mean()\n",
    "        nhn_scores.append(score)\n",
    "    score_dict[nhn] = nhn_scores"
   ]
  },
  {
   "cell_type": "code",
   "execution_count": 19,
   "metadata": {},
   "outputs": [
    {
     "name": "stdout",
     "output_type": "stream",
     "text": [
      "         1         2         4         6         8         10\n",
      "0  7.987905  7.973026  8.052661  8.110872  8.057902  8.034433\n",
      "1  7.987734  7.979363  8.061267  8.107808  8.066877  8.054547\n",
      "2  7.987727  7.966574  8.022414  8.101123  8.061644  8.004366\n"
     ]
    }
   ],
   "source": [
    "score_df = pd.DataFrame.from_dict(score_dict)\n",
    "print(score_df)"
   ]
  },
  {
   "cell_type": "code",
   "execution_count": 26,
   "metadata": {},
   "outputs": [],
   "source": [
    "from sklearn.metrics import r2_score"
   ]
  },
  {
   "cell_type": "code",
   "execution_count": 27,
   "metadata": {},
   "outputs": [],
   "source": [
    "score_dict = {}\n",
    "for nhn in nhn_range:\n",
    "    mlp = MLPRegressor(hidden_layer_sizes=(nhn,), activation='relu', \n",
    "                       solver='adam', shuffle=False, random_state=42, \n",
    "                       max_iter=2000, momentum=0.7, early_stopping=True, \n",
    "                       validation_fraction=0.15)\n",
    "\n",
    "\n",
    "    nhn_scores = []\n",
    "    for _ in range(n):\n",
    "\n",
    "        X_train = shuffle(X_train)\n",
    "        mlp.fit(X_train,y_train)\n",
    "        predictions = mlp.predict(X_train)\n",
    "        score = r2_score(y_train , predictions)\n",
    "        nhn_scores.append(score)\n",
    "    score_dict[nhn] = nhn_scores"
   ]
  },
  {
   "cell_type": "code",
   "execution_count": 28,
   "metadata": {},
   "outputs": [
    {
     "name": "stdout",
     "output_type": "stream",
     "text": [
      "         1         2         4         6         8         10\n",
      "0 -0.008862 -0.005253 -0.010667 -0.008106 -0.005008 -0.002595\n",
      "1 -0.008862 -0.001174 -0.008725 -0.010790 -0.005666  0.001621\n",
      "2 -0.008861 -0.001304 -0.024967 -0.002049 -0.003586  0.006695\n"
     ]
    }
   ],
   "source": [
    "score_df = pd.DataFrame.from_dict(score_dict)\n",
    "print(score_df)"
   ]
  },
  {
   "cell_type": "code",
   "execution_count": null,
   "metadata": {},
   "outputs": [],
   "source": []
  }
 ],
 "metadata": {
  "kernelspec": {
   "display_name": "Python 3",
   "language": "python",
   "name": "python3"
  },
  "language_info": {
   "codemirror_mode": {
    "name": "ipython",
    "version": 3
   },
   "file_extension": ".py",
   "mimetype": "text/x-python",
   "name": "python",
   "nbconvert_exporter": "python",
   "pygments_lexer": "ipython3",
   "version": "3.6.5"
  }
 },
 "nbformat": 4,
 "nbformat_minor": 2
}
