{
 "cells": [
  {
   "cell_type": "code",
   "execution_count": 1,
   "metadata": {},
   "outputs": [],
   "source": [
    "%matplotlib inline               \n",
    "import pandas as pd\n",
    "import numpy as np\n",
    "import matplotlib.pyplot as plt"
   ]
  },
  {
   "cell_type": "code",
   "execution_count": 2,
   "metadata": {},
   "outputs": [],
   "source": [
    "df = pd.read_csv('la data without aqi.csv')"
   ]
  },
  {
   "cell_type": "code",
   "execution_count": 3,
   "metadata": {},
   "outputs": [
    {
     "data": {
      "text/html": [
       "<div>\n",
       "<style scoped>\n",
       "    .dataframe tbody tr th:only-of-type {\n",
       "        vertical-align: middle;\n",
       "    }\n",
       "\n",
       "    .dataframe tbody tr th {\n",
       "        vertical-align: top;\n",
       "    }\n",
       "\n",
       "    .dataframe thead th {\n",
       "        text-align: right;\n",
       "    }\n",
       "</style>\n",
       "<table border=\"1\" class=\"dataframe\">\n",
       "  <thead>\n",
       "    <tr style=\"text-align: right;\">\n",
       "      <th></th>\n",
       "      <th>Avg PM2.5</th>\n",
       "      <th>Avg Max Temp</th>\n",
       "      <th>Avg Dew Temp</th>\n",
       "      <th>Avg Wind Speed</th>\n",
       "      <th>Avg Humidity</th>\n",
       "    </tr>\n",
       "  </thead>\n",
       "  <tbody>\n",
       "    <tr>\n",
       "      <th>0</th>\n",
       "      <td>8.642857</td>\n",
       "      <td>64.857143</td>\n",
       "      <td>33.571429</td>\n",
       "      <td>9.142857</td>\n",
       "      <td>48.357143</td>\n",
       "    </tr>\n",
       "    <tr>\n",
       "      <th>1</th>\n",
       "      <td>36.614286</td>\n",
       "      <td>64.000000</td>\n",
       "      <td>40.000000</td>\n",
       "      <td>6.571429</td>\n",
       "      <td>60.500000</td>\n",
       "    </tr>\n",
       "    <tr>\n",
       "      <th>2</th>\n",
       "      <td>24.628571</td>\n",
       "      <td>77.428571</td>\n",
       "      <td>36.714286</td>\n",
       "      <td>6.428571</td>\n",
       "      <td>44.142857</td>\n",
       "    </tr>\n",
       "    <tr>\n",
       "      <th>3</th>\n",
       "      <td>9.300000</td>\n",
       "      <td>84.000000</td>\n",
       "      <td>27.428571</td>\n",
       "      <td>7.142857</td>\n",
       "      <td>25.571429</td>\n",
       "    </tr>\n",
       "    <tr>\n",
       "      <th>4</th>\n",
       "      <td>11.485714</td>\n",
       "      <td>68.142857</td>\n",
       "      <td>42.285714</td>\n",
       "      <td>7.571429</td>\n",
       "      <td>54.571429</td>\n",
       "    </tr>\n",
       "  </tbody>\n",
       "</table>\n",
       "</div>"
      ],
      "text/plain": [
       "   Avg PM2.5  Avg Max Temp  Avg Dew Temp  Avg Wind Speed  Avg Humidity\n",
       "0   8.642857     64.857143     33.571429        9.142857     48.357143\n",
       "1  36.614286     64.000000     40.000000        6.571429     60.500000\n",
       "2  24.628571     77.428571     36.714286        6.428571     44.142857\n",
       "3   9.300000     84.000000     27.428571        7.142857     25.571429\n",
       "4  11.485714     68.142857     42.285714        7.571429     54.571429"
      ]
     },
     "execution_count": 3,
     "metadata": {},
     "output_type": "execute_result"
    }
   ],
   "source": [
    "df.head()"
   ]
  },
  {
   "cell_type": "code",
   "execution_count": 4,
   "metadata": {},
   "outputs": [
    {
     "data": {
      "text/plain": [
       "(449, 5)"
      ]
     },
     "execution_count": 4,
     "metadata": {},
     "output_type": "execute_result"
    }
   ],
   "source": [
    "df.shape"
   ]
  },
  {
   "cell_type": "code",
   "execution_count": 5,
   "metadata": {},
   "outputs": [],
   "source": [
    "X = df.drop('Avg PM2.5',axis=1)\n",
    "y = df['Avg PM2.5']"
   ]
  },
  {
   "cell_type": "code",
   "execution_count": 6,
   "metadata": {},
   "outputs": [],
   "source": [
    "df = df.reset_index()\n",
    "df = df.dropna()"
   ]
  },
  {
   "cell_type": "code",
   "execution_count": 7,
   "metadata": {},
   "outputs": [],
   "source": [
    "from sklearn.model_selection import train_test_split\n",
    "X_train, X_test, y_train, y_test = train_test_split(X, y, test_size = 0.2, random_state = 0)"
   ]
  },
  {
   "cell_type": "code",
   "execution_count": 8,
   "metadata": {},
   "outputs": [
    {
     "data": {
      "text/plain": [
       "(359, 4)"
      ]
     },
     "execution_count": 8,
     "metadata": {},
     "output_type": "execute_result"
    }
   ],
   "source": [
    "X_train.shape"
   ]
  },
  {
   "cell_type": "code",
   "execution_count": 9,
   "metadata": {},
   "outputs": [
    {
     "data": {
      "text/plain": [
       "(90, 4)"
      ]
     },
     "execution_count": 9,
     "metadata": {},
     "output_type": "execute_result"
    }
   ],
   "source": [
    "X_test.shape"
   ]
  },
  {
   "cell_type": "code",
   "execution_count": 10,
   "metadata": {},
   "outputs": [
    {
     "data": {
      "text/plain": [
       "(359,)"
      ]
     },
     "execution_count": 10,
     "metadata": {},
     "output_type": "execute_result"
    }
   ],
   "source": [
    "y_train.shape"
   ]
  },
  {
   "cell_type": "code",
   "execution_count": 11,
   "metadata": {},
   "outputs": [
    {
     "data": {
      "text/plain": [
       "(90,)"
      ]
     },
     "execution_count": 11,
     "metadata": {},
     "output_type": "execute_result"
    }
   ],
   "source": [
    "y_test.shape"
   ]
  },
  {
   "cell_type": "code",
   "execution_count": 12,
   "metadata": {},
   "outputs": [],
   "source": [
    "from sklearn.preprocessing import StandardScaler\n",
    "scaler = StandardScaler()"
   ]
  },
  {
   "cell_type": "code",
   "execution_count": 13,
   "metadata": {},
   "outputs": [
    {
     "data": {
      "text/plain": [
       "StandardScaler(copy=True, with_mean=True, with_std=True)"
      ]
     },
     "execution_count": 13,
     "metadata": {},
     "output_type": "execute_result"
    }
   ],
   "source": [
    "scaler.fit(X_train)"
   ]
  },
  {
   "cell_type": "code",
   "execution_count": 14,
   "metadata": {},
   "outputs": [],
   "source": [
    "X_train = scaler.transform(X_train)\n",
    "X_test = scaler.transform(X_test)"
   ]
  },
  {
   "cell_type": "code",
   "execution_count": 15,
   "metadata": {},
   "outputs": [],
   "source": [
    "from sklearn.neural_network import MLPRegressor\n",
    "from sklearn.model_selection import cross_val_score\n",
    "from sklearn.utils import shuffle"
   ]
  },
  {
   "cell_type": "code",
   "execution_count": 16,
   "metadata": {},
   "outputs": [],
   "source": [
    "n=3 # how many times to shuffle the training data\n",
    "nhn_range=[1,2,4,6,8,10] # number of hidden neurons"
   ]
  },
  {
   "cell_type": "code",
   "execution_count": 17,
   "metadata": {},
   "outputs": [],
   "source": [
    "score_dict = {}\n",
    "for nhn in nhn_range:\n",
    "    mlp = MLPRegressor(hidden_layer_sizes=(nhn,), activation='relu', \n",
    "                       solver='adam', shuffle=False, random_state=42, \n",
    "                       max_iter=10000, momentum=0.7, early_stopping=True, \n",
    "                       validation_fraction=0.15)\n",
    "\n",
    "\n",
    "    nhn_scores = []\n",
    "    for _ in range(n):\n",
    "\n",
    "        X_train = shuffle(X_train)\n",
    "        score = np.sqrt(-cross_val_score(mlp, X_train, \n",
    "                    y_train, \n",
    "                    cv=5, scoring='neg_mean_squared_error')).mean()\n",
    "        nhn_scores.append(score)\n",
    "    score_dict[nhn] = nhn_scores"
   ]
  },
  {
   "cell_type": "code",
   "execution_count": 18,
   "metadata": {},
   "outputs": [
    {
     "name": "stdout",
     "output_type": "stream",
     "text": [
      "         1         2         4         6         8         10\n",
      "0  5.653349  5.951574  5.879272  6.454201  6.319244  6.803037\n",
      "1  5.655978  5.797924  6.082612  6.283480  6.352889  6.804382\n",
      "2  5.655375  5.933327  6.134863  6.477393  6.075155  7.046039\n"
     ]
    }
   ],
   "source": [
    "score_df = pd.DataFrame.from_dict(score_dict)\n",
    "print(score_df)"
   ]
  },
  {
   "cell_type": "code",
   "execution_count": 19,
   "metadata": {},
   "outputs": [
    {
     "name": "stderr",
     "output_type": "stream",
     "text": [
      "C:\\Users\\theda\\AppData\\Local\\Continuum\\anaconda3\\lib\\site-packages\\sklearn\\neural_network\\multilayer_perceptron.py:564: ConvergenceWarning: Stochastic Optimizer: Maximum iterations (2000) reached and the optimization hasn't converged yet.\n",
      "  % self.max_iter, ConvergenceWarning)\n",
      "C:\\Users\\theda\\AppData\\Local\\Continuum\\anaconda3\\lib\\site-packages\\sklearn\\neural_network\\multilayer_perceptron.py:566: UserWarning: Training interrupted by user.\n",
      "  warnings.warn(\"Training interrupted by user.\")\n"
     ]
    }
   ],
   "source": [
    "score_dict = {}\n",
    "for nhn in nhn_range:\n",
    "    mlp = MLPRegressor(hidden_layer_sizes=(nhn,), activation='relu', \n",
    "                       solver='adam', shuffle=False, random_state=42, \n",
    "                       max_iter=2000, momentum=0.7, early_stopping=True, \n",
    "                       validation_fraction=0.15)\n",
    "\n",
    "\n",
    "    nhn_scores = []\n",
    "    for _ in range(n):\n",
    "\n",
    "        X_train = shuffle(X_train)\n",
    "        mlp.fit(X_train,y_train)\n",
    "        score = mlp.score(X_test, y_test).mean()\n",
    "        nhn_scores.append(score)\n",
    "    score_dict[nhn] = nhn_scores"
   ]
  },
  {
   "cell_type": "code",
   "execution_count": 20,
   "metadata": {},
   "outputs": [],
   "source": [
    "score_df = pd.DataFrame.from_dict(score_dict)"
   ]
  },
  {
   "cell_type": "code",
   "execution_count": 21,
   "metadata": {},
   "outputs": [
    {
     "name": "stdout",
     "output_type": "stream",
     "text": [
      "        10        50        100       200       400       600\n",
      "0 -0.126465 -0.340855 -0.203829 -0.068093 -0.101070  0.004482\n",
      "1  0.027626 -0.480756 -0.308382 -0.144247 -0.088470 -0.137548\n",
      "2 -0.075815 -0.307181 -0.168696  0.008988 -0.289974 -0.103535\n"
     ]
    }
   ],
   "source": [
    "print(score_df)"
   ]
  },
  {
   "cell_type": "code",
   "execution_count": 22,
   "metadata": {},
   "outputs": [],
   "source": [
    "from sklearn.metrics import mean_squared_error"
   ]
  },
  {
   "cell_type": "code",
   "execution_count": 23,
   "metadata": {},
   "outputs": [],
   "source": [
    "score_dict = {}\n",
    "for nhn in nhn_range:\n",
    "    mlp = MLPRegressor(hidden_layer_sizes=(nhn,), activation='relu', \n",
    "                       solver='adam', shuffle=False, random_state=42, \n",
    "                       max_iter=2000, momentum=0.7, early_stopping=True, \n",
    "                       validation_fraction=0.15)\n",
    "\n",
    "\n",
    "    nhn_scores = []\n",
    "    for _ in range(n):\n",
    "\n",
    "        X_train = shuffle(X_train)\n",
    "        mlp.fit(X_train,y_train)\n",
    "        predictions = mlp.predict(X_test)\n",
    "        score = mean_squared_error(y_test, predictions).mean()\n",
    "        nhn_scores.append(score)\n",
    "    score_dict[nhn] = nhn_scores"
   ]
  },
  {
   "cell_type": "code",
   "execution_count": 24,
   "metadata": {},
   "outputs": [
    {
     "name": "stdout",
     "output_type": "stream",
     "text": [
      "         10         50         100        200        400        600\n",
      "0  32.635013  38.794006  31.298572  31.893421  34.636826  30.561701\n",
      "1  38.225211  39.457273  35.254558  31.644332  37.894691  29.786396\n",
      "2  30.825742  36.335435  34.837430  32.150797  37.743133  32.063022\n"
     ]
    }
   ],
   "source": [
    "score_df = pd.DataFrame.from_dict(score_dict)\n",
    "print(score_df)"
   ]
  },
  {
   "cell_type": "code",
   "execution_count": null,
   "metadata": {},
   "outputs": [],
   "source": []
  }
 ],
 "metadata": {
  "kernelspec": {
   "display_name": "Python 3",
   "language": "python",
   "name": "python3"
  },
  "language_info": {
   "codemirror_mode": {
    "name": "ipython",
    "version": 3
   },
   "file_extension": ".py",
   "mimetype": "text/x-python",
   "name": "python",
   "nbconvert_exporter": "python",
   "pygments_lexer": "ipython3",
   "version": "3.6.5"
  }
 },
 "nbformat": 4,
 "nbformat_minor": 2
}
