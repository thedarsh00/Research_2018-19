{
 "cells": [
  {
   "cell_type": "code",
   "execution_count": 1,
   "metadata": {},
   "outputs": [],
   "source": [
    "%matplotlib inline               \n",
    "import pandas as pd\n",
    "import numpy as np\n",
    "import matplotlib.pyplot as plt"
   ]
  },
  {
   "cell_type": "code",
   "execution_count": 2,
   "metadata": {},
   "outputs": [],
   "source": [
    "df = pd.read_csv('la data total classified.csv')"
   ]
  },
  {
   "cell_type": "code",
   "execution_count": 3,
   "metadata": {},
   "outputs": [
    {
     "data": {
      "text/html": [
       "<div>\n",
       "<style scoped>\n",
       "    .dataframe tbody tr th:only-of-type {\n",
       "        vertical-align: middle;\n",
       "    }\n",
       "\n",
       "    .dataframe tbody tr th {\n",
       "        vertical-align: top;\n",
       "    }\n",
       "\n",
       "    .dataframe thead th {\n",
       "        text-align: right;\n",
       "    }\n",
       "</style>\n",
       "<table border=\"1\" class=\"dataframe\">\n",
       "  <thead>\n",
       "    <tr style=\"text-align: right;\">\n",
       "      <th></th>\n",
       "      <th>Daily Mean PM2.5 Concentration</th>\n",
       "      <th>Max Temp</th>\n",
       "      <th>Avg Dew Point</th>\n",
       "      <th>Max Wind Speed</th>\n",
       "      <th>Avg Humidity</th>\n",
       "    </tr>\n",
       "  </thead>\n",
       "  <tbody>\n",
       "    <tr>\n",
       "      <th>0</th>\n",
       "      <td>3</td>\n",
       "      <td>88</td>\n",
       "      <td>32</td>\n",
       "      <td>5</td>\n",
       "      <td>26.0</td>\n",
       "    </tr>\n",
       "    <tr>\n",
       "      <th>1</th>\n",
       "      <td>3</td>\n",
       "      <td>68</td>\n",
       "      <td>46</td>\n",
       "      <td>6</td>\n",
       "      <td>67.5</td>\n",
       "    </tr>\n",
       "    <tr>\n",
       "      <th>2</th>\n",
       "      <td>3</td>\n",
       "      <td>71</td>\n",
       "      <td>44</td>\n",
       "      <td>5</td>\n",
       "      <td>61.0</td>\n",
       "    </tr>\n",
       "    <tr>\n",
       "      <th>3</th>\n",
       "      <td>3</td>\n",
       "      <td>68</td>\n",
       "      <td>50</td>\n",
       "      <td>6</td>\n",
       "      <td>63.5</td>\n",
       "    </tr>\n",
       "    <tr>\n",
       "      <th>4</th>\n",
       "      <td>3</td>\n",
       "      <td>55</td>\n",
       "      <td>46</td>\n",
       "      <td>8</td>\n",
       "      <td>79.5</td>\n",
       "    </tr>\n",
       "  </tbody>\n",
       "</table>\n",
       "</div>"
      ],
      "text/plain": [
       "   Daily Mean PM2.5 Concentration  Max Temp  Avg Dew Point  Max Wind Speed  \\\n",
       "0                               3        88             32               5   \n",
       "1                               3        68             46               6   \n",
       "2                               3        71             44               5   \n",
       "3                               3        68             50               6   \n",
       "4                               3        55             46               8   \n",
       "\n",
       "   Avg Humidity  \n",
       "0          26.0  \n",
       "1          67.5  \n",
       "2          61.0  \n",
       "3          63.5  \n",
       "4          79.5  "
      ]
     },
     "execution_count": 3,
     "metadata": {},
     "output_type": "execute_result"
    }
   ],
   "source": [
    "df.head()"
   ]
  },
  {
   "cell_type": "code",
   "execution_count": 4,
   "metadata": {},
   "outputs": [
    {
     "data": {
      "text/html": [
       "<div>\n",
       "<style scoped>\n",
       "    .dataframe tbody tr th:only-of-type {\n",
       "        vertical-align: middle;\n",
       "    }\n",
       "\n",
       "    .dataframe tbody tr th {\n",
       "        vertical-align: top;\n",
       "    }\n",
       "\n",
       "    .dataframe thead th {\n",
       "        text-align: right;\n",
       "    }\n",
       "</style>\n",
       "<table border=\"1\" class=\"dataframe\">\n",
       "  <thead>\n",
       "    <tr style=\"text-align: right;\">\n",
       "      <th></th>\n",
       "      <th>Daily Mean PM2.5 Concentration</th>\n",
       "      <th>Max Temp</th>\n",
       "      <th>Avg Dew Point</th>\n",
       "      <th>Max Wind Speed</th>\n",
       "      <th>Avg Humidity</th>\n",
       "    </tr>\n",
       "  </thead>\n",
       "  <tbody>\n",
       "    <tr>\n",
       "      <th>count</th>\n",
       "      <td>3444.000000</td>\n",
       "      <td>3444.000000</td>\n",
       "      <td>3444.000000</td>\n",
       "      <td>3444.000000</td>\n",
       "      <td>3444.000000</td>\n",
       "    </tr>\n",
       "    <tr>\n",
       "      <th>mean</th>\n",
       "      <td>0.535134</td>\n",
       "      <td>75.954994</td>\n",
       "      <td>49.795296</td>\n",
       "      <td>8.855110</td>\n",
       "      <td>60.640534</td>\n",
       "    </tr>\n",
       "    <tr>\n",
       "      <th>std</th>\n",
       "      <td>0.702419</td>\n",
       "      <td>9.142370</td>\n",
       "      <td>10.425436</td>\n",
       "      <td>2.883481</td>\n",
       "      <td>13.194346</td>\n",
       "    </tr>\n",
       "    <tr>\n",
       "      <th>min</th>\n",
       "      <td>0.000000</td>\n",
       "      <td>51.000000</td>\n",
       "      <td>13.000000</td>\n",
       "      <td>0.000000</td>\n",
       "      <td>15.000000</td>\n",
       "    </tr>\n",
       "    <tr>\n",
       "      <th>25%</th>\n",
       "      <td>0.000000</td>\n",
       "      <td>69.000000</td>\n",
       "      <td>45.000000</td>\n",
       "      <td>8.000000</td>\n",
       "      <td>54.000000</td>\n",
       "    </tr>\n",
       "    <tr>\n",
       "      <th>50%</th>\n",
       "      <td>0.000000</td>\n",
       "      <td>76.000000</td>\n",
       "      <td>52.000000</td>\n",
       "      <td>9.000000</td>\n",
       "      <td>64.500000</td>\n",
       "    </tr>\n",
       "    <tr>\n",
       "      <th>75%</th>\n",
       "      <td>1.000000</td>\n",
       "      <td>82.000000</td>\n",
       "      <td>58.000000</td>\n",
       "      <td>10.000000</td>\n",
       "      <td>69.500000</td>\n",
       "    </tr>\n",
       "    <tr>\n",
       "      <th>max</th>\n",
       "      <td>3.000000</td>\n",
       "      <td>113.000000</td>\n",
       "      <td>68.000000</td>\n",
       "      <td>52.000000</td>\n",
       "      <td>99.000000</td>\n",
       "    </tr>\n",
       "  </tbody>\n",
       "</table>\n",
       "</div>"
      ],
      "text/plain": [
       "       Daily Mean PM2.5 Concentration     Max Temp  Avg Dew Point  \\\n",
       "count                     3444.000000  3444.000000    3444.000000   \n",
       "mean                         0.535134    75.954994      49.795296   \n",
       "std                          0.702419     9.142370      10.425436   \n",
       "min                          0.000000    51.000000      13.000000   \n",
       "25%                          0.000000    69.000000      45.000000   \n",
       "50%                          0.000000    76.000000      52.000000   \n",
       "75%                          1.000000    82.000000      58.000000   \n",
       "max                          3.000000   113.000000      68.000000   \n",
       "\n",
       "       Max Wind Speed  Avg Humidity  \n",
       "count     3444.000000   3444.000000  \n",
       "mean         8.855110     60.640534  \n",
       "std          2.883481     13.194346  \n",
       "min          0.000000     15.000000  \n",
       "25%          8.000000     54.000000  \n",
       "50%          9.000000     64.500000  \n",
       "75%         10.000000     69.500000  \n",
       "max         52.000000     99.000000  "
      ]
     },
     "execution_count": 4,
     "metadata": {},
     "output_type": "execute_result"
    }
   ],
   "source": [
    "df.describe()"
   ]
  },
  {
   "cell_type": "code",
   "execution_count": 5,
   "metadata": {},
   "outputs": [
    {
     "data": {
      "text/plain": [
       "(3444, 5)"
      ]
     },
     "execution_count": 5,
     "metadata": {},
     "output_type": "execute_result"
    }
   ],
   "source": [
    "df.shape"
   ]
  },
  {
   "cell_type": "code",
   "execution_count": 6,
   "metadata": {},
   "outputs": [],
   "source": [
    "X = df.drop('Daily Mean PM2.5 Concentration',axis=1)\n",
    "y = np.asarray(df['Daily Mean PM2.5 Concentration'], dtype=\"|S6\")"
   ]
  },
  {
   "cell_type": "code",
   "execution_count": 7,
   "metadata": {},
   "outputs": [],
   "source": [
    "from sklearn.model_selection import train_test_split\n",
    "X_train, X_test, y_train, y_test = train_test_split(X, y, test_size = 0.2, random_state = 0)"
   ]
  },
  {
   "cell_type": "code",
   "execution_count": 8,
   "metadata": {},
   "outputs": [
    {
     "data": {
      "text/plain": [
       "(2755, 4)"
      ]
     },
     "execution_count": 8,
     "metadata": {},
     "output_type": "execute_result"
    }
   ],
   "source": [
    "X_train.shape"
   ]
  },
  {
   "cell_type": "code",
   "execution_count": 9,
   "metadata": {},
   "outputs": [
    {
     "data": {
      "text/plain": [
       "(689, 4)"
      ]
     },
     "execution_count": 9,
     "metadata": {},
     "output_type": "execute_result"
    }
   ],
   "source": [
    "X_test.shape"
   ]
  },
  {
   "cell_type": "code",
   "execution_count": 10,
   "metadata": {},
   "outputs": [
    {
     "data": {
      "text/plain": [
       "(2755,)"
      ]
     },
     "execution_count": 10,
     "metadata": {},
     "output_type": "execute_result"
    }
   ],
   "source": [
    "y_train.shape"
   ]
  },
  {
   "cell_type": "code",
   "execution_count": 11,
   "metadata": {},
   "outputs": [
    {
     "data": {
      "text/plain": [
       "(689,)"
      ]
     },
     "execution_count": 11,
     "metadata": {},
     "output_type": "execute_result"
    }
   ],
   "source": [
    "y_test.shape"
   ]
  },
  {
   "cell_type": "code",
   "execution_count": 12,
   "metadata": {},
   "outputs": [],
   "source": [
    "from sklearn.preprocessing import StandardScaler\n",
    "scaler = StandardScaler()"
   ]
  },
  {
   "cell_type": "code",
   "execution_count": 13,
   "metadata": {},
   "outputs": [
    {
     "data": {
      "text/plain": [
       "StandardScaler(copy=True, with_mean=True, with_std=True)"
      ]
     },
     "execution_count": 13,
     "metadata": {},
     "output_type": "execute_result"
    }
   ],
   "source": [
    "scaler.fit(X_train)"
   ]
  },
  {
   "cell_type": "code",
   "execution_count": 14,
   "metadata": {},
   "outputs": [],
   "source": [
    "X_train = scaler.transform(X_train)\n",
    "X_test = scaler.transform(X_test)"
   ]
  },
  {
   "cell_type": "code",
   "execution_count": 15,
   "metadata": {},
   "outputs": [],
   "source": [
    "from sklearn.neural_network import MLPClassifier\n",
    "\n",
    "mlp = MLPClassifier(max_iter=1000)\n",
    "\n",
    "parameter_space = {\n",
    "    'hidden_layer_sizes': [(2, 2, 2), (4, 4, 4), (6, 6, 6)],\n",
    "    'activation': ['tanh', 'relu'],\n",
    "    'solver': ['sgd', 'adam'],\n",
    "    'alpha': [0.0001, 0.05],\n",
    "    'learning_rate': ['constant','adaptive'],\n",
    "}"
   ]
  },
  {
   "cell_type": "code",
   "execution_count": 16,
   "metadata": {},
   "outputs": [
    {
     "data": {
      "text/plain": [
       "GridSearchCV(cv=3, error_score='raise',\n",
       "       estimator=MLPClassifier(activation='relu', alpha=0.0001, batch_size='auto', beta_1=0.9,\n",
       "       beta_2=0.999, early_stopping=False, epsilon=1e-08,\n",
       "       hidden_layer_sizes=(100,), learning_rate='constant',\n",
       "       learning_rate_init=0.001, max_iter=1000, momentum=0.9,\n",
       "       nesterovs_momentum=True, power_t=0.5, random_state=None,\n",
       "       shuffle=True, solver='adam', tol=0.0001, validation_fraction=0.1,\n",
       "       verbose=False, warm_start=False),\n",
       "       fit_params=None, iid=True, n_jobs=-1,\n",
       "       param_grid={'hidden_layer_sizes': [(2, 2, 2), (4, 4, 4), (6, 6, 6)], 'activation': ['tanh', 'relu'], 'solver': ['sgd', 'adam'], 'alpha': [0.0001, 0.05], 'learning_rate': ['constant', 'adaptive']},\n",
       "       pre_dispatch='2*n_jobs', refit=True, return_train_score='warn',\n",
       "       scoring=None, verbose=0)"
      ]
     },
     "execution_count": 16,
     "metadata": {},
     "output_type": "execute_result"
    }
   ],
   "source": [
    "from sklearn.model_selection import GridSearchCV\n",
    "\n",
    "clf = GridSearchCV(mlp, parameter_space, n_jobs=-1, cv=3)\n",
    "clf.fit(X_train, y_train)"
   ]
  },
  {
   "cell_type": "code",
   "execution_count": 17,
   "metadata": {},
   "outputs": [
    {
     "name": "stdout",
     "output_type": "stream",
     "text": [
      "Best parameters found:\n",
      " {'activation': 'tanh', 'alpha': 0.0001, 'hidden_layer_sizes': (6, 6, 6), 'learning_rate': 'constant', 'solver': 'adam'}\n",
      "0.591 (+/-0.037) for {'activation': 'tanh', 'alpha': 0.0001, 'hidden_layer_sizes': (2, 2, 2), 'learning_rate': 'constant', 'solver': 'sgd'}\n",
      "0.589 (+/-0.021) for {'activation': 'tanh', 'alpha': 0.0001, 'hidden_layer_sizes': (2, 2, 2), 'learning_rate': 'constant', 'solver': 'adam'}\n",
      "0.583 (+/-0.005) for {'activation': 'tanh', 'alpha': 0.0001, 'hidden_layer_sizes': (2, 2, 2), 'learning_rate': 'adaptive', 'solver': 'sgd'}\n",
      "0.597 (+/-0.031) for {'activation': 'tanh', 'alpha': 0.0001, 'hidden_layer_sizes': (2, 2, 2), 'learning_rate': 'adaptive', 'solver': 'adam'}\n",
      "0.597 (+/-0.034) for {'activation': 'tanh', 'alpha': 0.0001, 'hidden_layer_sizes': (4, 4, 4), 'learning_rate': 'constant', 'solver': 'sgd'}\n",
      "0.599 (+/-0.027) for {'activation': 'tanh', 'alpha': 0.0001, 'hidden_layer_sizes': (4, 4, 4), 'learning_rate': 'constant', 'solver': 'adam'}\n",
      "0.593 (+/-0.015) for {'activation': 'tanh', 'alpha': 0.0001, 'hidden_layer_sizes': (4, 4, 4), 'learning_rate': 'adaptive', 'solver': 'sgd'}\n",
      "0.591 (+/-0.017) for {'activation': 'tanh', 'alpha': 0.0001, 'hidden_layer_sizes': (4, 4, 4), 'learning_rate': 'adaptive', 'solver': 'adam'}\n",
      "0.598 (+/-0.019) for {'activation': 'tanh', 'alpha': 0.0001, 'hidden_layer_sizes': (6, 6, 6), 'learning_rate': 'constant', 'solver': 'sgd'}\n",
      "0.610 (+/-0.013) for {'activation': 'tanh', 'alpha': 0.0001, 'hidden_layer_sizes': (6, 6, 6), 'learning_rate': 'constant', 'solver': 'adam'}\n",
      "0.593 (+/-0.015) for {'activation': 'tanh', 'alpha': 0.0001, 'hidden_layer_sizes': (6, 6, 6), 'learning_rate': 'adaptive', 'solver': 'sgd'}\n",
      "0.592 (+/-0.026) for {'activation': 'tanh', 'alpha': 0.0001, 'hidden_layer_sizes': (6, 6, 6), 'learning_rate': 'adaptive', 'solver': 'adam'}\n",
      "0.588 (+/-0.008) for {'activation': 'tanh', 'alpha': 0.05, 'hidden_layer_sizes': (2, 2, 2), 'learning_rate': 'constant', 'solver': 'sgd'}\n",
      "0.585 (+/-0.036) for {'activation': 'tanh', 'alpha': 0.05, 'hidden_layer_sizes': (2, 2, 2), 'learning_rate': 'constant', 'solver': 'adam'}\n",
      "0.580 (+/-0.000) for {'activation': 'tanh', 'alpha': 0.05, 'hidden_layer_sizes': (2, 2, 2), 'learning_rate': 'adaptive', 'solver': 'sgd'}\n",
      "0.593 (+/-0.007) for {'activation': 'tanh', 'alpha': 0.05, 'hidden_layer_sizes': (2, 2, 2), 'learning_rate': 'adaptive', 'solver': 'adam'}\n",
      "0.584 (+/-0.010) for {'activation': 'tanh', 'alpha': 0.05, 'hidden_layer_sizes': (4, 4, 4), 'learning_rate': 'constant', 'solver': 'sgd'}\n",
      "0.601 (+/-0.031) for {'activation': 'tanh', 'alpha': 0.05, 'hidden_layer_sizes': (4, 4, 4), 'learning_rate': 'constant', 'solver': 'adam'}\n",
      "0.587 (+/-0.015) for {'activation': 'tanh', 'alpha': 0.05, 'hidden_layer_sizes': (4, 4, 4), 'learning_rate': 'adaptive', 'solver': 'sgd'}\n",
      "0.608 (+/-0.027) for {'activation': 'tanh', 'alpha': 0.05, 'hidden_layer_sizes': (4, 4, 4), 'learning_rate': 'adaptive', 'solver': 'adam'}\n",
      "0.589 (+/-0.015) for {'activation': 'tanh', 'alpha': 0.05, 'hidden_layer_sizes': (6, 6, 6), 'learning_rate': 'constant', 'solver': 'sgd'}\n",
      "0.600 (+/-0.005) for {'activation': 'tanh', 'alpha': 0.05, 'hidden_layer_sizes': (6, 6, 6), 'learning_rate': 'constant', 'solver': 'adam'}\n",
      "0.595 (+/-0.009) for {'activation': 'tanh', 'alpha': 0.05, 'hidden_layer_sizes': (6, 6, 6), 'learning_rate': 'adaptive', 'solver': 'sgd'}\n",
      "0.603 (+/-0.024) for {'activation': 'tanh', 'alpha': 0.05, 'hidden_layer_sizes': (6, 6, 6), 'learning_rate': 'adaptive', 'solver': 'adam'}\n",
      "0.581 (+/-0.001) for {'activation': 'relu', 'alpha': 0.0001, 'hidden_layer_sizes': (2, 2, 2), 'learning_rate': 'constant', 'solver': 'sgd'}\n",
      "0.595 (+/-0.022) for {'activation': 'relu', 'alpha': 0.0001, 'hidden_layer_sizes': (2, 2, 2), 'learning_rate': 'constant', 'solver': 'adam'}\n",
      "0.580 (+/-0.001) for {'activation': 'relu', 'alpha': 0.0001, 'hidden_layer_sizes': (2, 2, 2), 'learning_rate': 'adaptive', 'solver': 'sgd'}\n",
      "0.580 (+/-0.013) for {'activation': 'relu', 'alpha': 0.0001, 'hidden_layer_sizes': (2, 2, 2), 'learning_rate': 'adaptive', 'solver': 'adam'}\n",
      "0.578 (+/-0.006) for {'activation': 'relu', 'alpha': 0.0001, 'hidden_layer_sizes': (4, 4, 4), 'learning_rate': 'constant', 'solver': 'sgd'}\n",
      "0.589 (+/-0.009) for {'activation': 'relu', 'alpha': 0.0001, 'hidden_layer_sizes': (4, 4, 4), 'learning_rate': 'constant', 'solver': 'adam'}\n",
      "0.585 (+/-0.018) for {'activation': 'relu', 'alpha': 0.0001, 'hidden_layer_sizes': (4, 4, 4), 'learning_rate': 'adaptive', 'solver': 'sgd'}\n",
      "0.596 (+/-0.016) for {'activation': 'relu', 'alpha': 0.0001, 'hidden_layer_sizes': (4, 4, 4), 'learning_rate': 'adaptive', 'solver': 'adam'}\n",
      "0.584 (+/-0.015) for {'activation': 'relu', 'alpha': 0.0001, 'hidden_layer_sizes': (6, 6, 6), 'learning_rate': 'constant', 'solver': 'sgd'}\n",
      "0.600 (+/-0.021) for {'activation': 'relu', 'alpha': 0.0001, 'hidden_layer_sizes': (6, 6, 6), 'learning_rate': 'constant', 'solver': 'adam'}\n",
      "0.589 (+/-0.014) for {'activation': 'relu', 'alpha': 0.0001, 'hidden_layer_sizes': (6, 6, 6), 'learning_rate': 'adaptive', 'solver': 'sgd'}\n",
      "0.600 (+/-0.022) for {'activation': 'relu', 'alpha': 0.0001, 'hidden_layer_sizes': (6, 6, 6), 'learning_rate': 'adaptive', 'solver': 'adam'}\n",
      "0.587 (+/-0.018) for {'activation': 'relu', 'alpha': 0.05, 'hidden_layer_sizes': (2, 2, 2), 'learning_rate': 'constant', 'solver': 'sgd'}\n",
      "0.589 (+/-0.024) for {'activation': 'relu', 'alpha': 0.05, 'hidden_layer_sizes': (2, 2, 2), 'learning_rate': 'constant', 'solver': 'adam'}\n",
      "0.580 (+/-0.005) for {'activation': 'relu', 'alpha': 0.05, 'hidden_layer_sizes': (2, 2, 2), 'learning_rate': 'adaptive', 'solver': 'sgd'}\n",
      "0.581 (+/-0.001) for {'activation': 'relu', 'alpha': 0.05, 'hidden_layer_sizes': (2, 2, 2), 'learning_rate': 'adaptive', 'solver': 'adam'}\n",
      "0.583 (+/-0.008) for {'activation': 'relu', 'alpha': 0.05, 'hidden_layer_sizes': (4, 4, 4), 'learning_rate': 'constant', 'solver': 'sgd'}\n",
      "0.594 (+/-0.025) for {'activation': 'relu', 'alpha': 0.05, 'hidden_layer_sizes': (4, 4, 4), 'learning_rate': 'constant', 'solver': 'adam'}\n",
      "0.585 (+/-0.023) for {'activation': 'relu', 'alpha': 0.05, 'hidden_layer_sizes': (4, 4, 4), 'learning_rate': 'adaptive', 'solver': 'sgd'}\n",
      "0.587 (+/-0.014) for {'activation': 'relu', 'alpha': 0.05, 'hidden_layer_sizes': (4, 4, 4), 'learning_rate': 'adaptive', 'solver': 'adam'}\n",
      "0.582 (+/-0.011) for {'activation': 'relu', 'alpha': 0.05, 'hidden_layer_sizes': (6, 6, 6), 'learning_rate': 'constant', 'solver': 'sgd'}\n",
      "0.596 (+/-0.027) for {'activation': 'relu', 'alpha': 0.05, 'hidden_layer_sizes': (6, 6, 6), 'learning_rate': 'constant', 'solver': 'adam'}\n",
      "0.595 (+/-0.015) for {'activation': 'relu', 'alpha': 0.05, 'hidden_layer_sizes': (6, 6, 6), 'learning_rate': 'adaptive', 'solver': 'sgd'}\n",
      "0.597 (+/-0.006) for {'activation': 'relu', 'alpha': 0.05, 'hidden_layer_sizes': (6, 6, 6), 'learning_rate': 'adaptive', 'solver': 'adam'}\n"
     ]
    }
   ],
   "source": [
    "# Best parameter set\n",
    "print('Best parameters found:\\n', clf.best_params_)\n",
    "\n",
    "# All results\n",
    "means = clf.cv_results_['mean_test_score']\n",
    "stds = clf.cv_results_['std_test_score']\n",
    "for mean, std, params in zip(means, stds, clf.cv_results_['params']):\n",
    "    print(\"%0.3f (+/-%0.03f) for %r\" % (mean, std * 2, params))"
   ]
  },
  {
   "cell_type": "code",
   "execution_count": 18,
   "metadata": {},
   "outputs": [
    {
     "name": "stdout",
     "output_type": "stream",
     "text": [
      "Results on the test set:\n",
      "             precision    recall  f1-score   support\n",
      "\n",
      "       b'0'       0.66      0.86      0.74       395\n",
      "       b'1'       0.48      0.35      0.40       222\n",
      "       b'2'       0.50      0.05      0.09        63\n",
      "       b'3'       0.00      0.00      0.00         9\n",
      "\n",
      "avg / total       0.57      0.61      0.56       689\n",
      "\n"
     ]
    },
    {
     "name": "stderr",
     "output_type": "stream",
     "text": [
      "C:\\Users\\theda\\AppData\\Local\\Continuum\\anaconda3\\lib\\site-packages\\sklearn\\metrics\\classification.py:1135: UndefinedMetricWarning: Precision and F-score are ill-defined and being set to 0.0 in labels with no predicted samples.\n",
      "  'precision', 'predicted', average, warn_for)\n"
     ]
    }
   ],
   "source": [
    "y_true, y_pred = y_test , clf.predict(X_test)\n",
    "\n",
    "from sklearn.metrics import classification_report\n",
    "print('Results on the test set:')\n",
    "print(classification_report(y_true, y_pred))"
   ]
  },
  {
   "cell_type": "code",
   "execution_count": null,
   "metadata": {},
   "outputs": [],
   "source": []
  }
 ],
 "metadata": {
  "kernelspec": {
   "display_name": "Python 3",
   "language": "python",
   "name": "python3"
  },
  "language_info": {
   "codemirror_mode": {
    "name": "ipython",
    "version": 3
   },
   "file_extension": ".py",
   "mimetype": "text/x-python",
   "name": "python",
   "nbconvert_exporter": "python",
   "pygments_lexer": "ipython3",
   "version": "3.6.5"
  }
 },
 "nbformat": 4,
 "nbformat_minor": 2
}
