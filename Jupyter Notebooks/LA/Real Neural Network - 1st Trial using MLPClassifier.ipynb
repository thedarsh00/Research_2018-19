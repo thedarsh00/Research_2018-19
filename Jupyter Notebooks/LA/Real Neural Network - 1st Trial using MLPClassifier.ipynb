{
 "cells": [
  {
   "cell_type": "code",
   "execution_count": 1,
   "metadata": {},
   "outputs": [],
   "source": [
    "%matplotlib inline               \n",
    "import pandas as pd\n",
    "import numpy as np\n",
    "import matplotlib.pyplot as plt"
   ]
  },
  {
   "cell_type": "code",
   "execution_count": 2,
   "metadata": {},
   "outputs": [],
   "source": [
    "df = pd.read_csv('data without aqi.csv')"
   ]
  },
  {
   "cell_type": "code",
   "execution_count": 3,
   "metadata": {},
   "outputs": [
    {
     "data": {
      "text/html": [
       "<div>\n",
       "<style scoped>\n",
       "    .dataframe tbody tr th:only-of-type {\n",
       "        vertical-align: middle;\n",
       "    }\n",
       "\n",
       "    .dataframe tbody tr th {\n",
       "        vertical-align: top;\n",
       "    }\n",
       "\n",
       "    .dataframe thead th {\n",
       "        text-align: right;\n",
       "    }\n",
       "</style>\n",
       "<table border=\"1\" class=\"dataframe\">\n",
       "  <thead>\n",
       "    <tr style=\"text-align: right;\">\n",
       "      <th></th>\n",
       "      <th>Avg PM2.5</th>\n",
       "      <th>Avg Max Temp</th>\n",
       "      <th>Avg Dew Temp</th>\n",
       "      <th>Avg Wind Speed</th>\n",
       "      <th>Avg Humidity</th>\n",
       "    </tr>\n",
       "  </thead>\n",
       "  <tbody>\n",
       "    <tr>\n",
       "      <th>0</th>\n",
       "      <td>8.642857</td>\n",
       "      <td>64.857143</td>\n",
       "      <td>33.571429</td>\n",
       "      <td>9.142857</td>\n",
       "      <td>48.357143</td>\n",
       "    </tr>\n",
       "    <tr>\n",
       "      <th>1</th>\n",
       "      <td>36.614286</td>\n",
       "      <td>64.000000</td>\n",
       "      <td>40.000000</td>\n",
       "      <td>6.571429</td>\n",
       "      <td>60.500000</td>\n",
       "    </tr>\n",
       "    <tr>\n",
       "      <th>2</th>\n",
       "      <td>24.628571</td>\n",
       "      <td>77.428571</td>\n",
       "      <td>36.714286</td>\n",
       "      <td>6.428571</td>\n",
       "      <td>44.142857</td>\n",
       "    </tr>\n",
       "    <tr>\n",
       "      <th>3</th>\n",
       "      <td>9.300000</td>\n",
       "      <td>84.000000</td>\n",
       "      <td>27.428571</td>\n",
       "      <td>7.142857</td>\n",
       "      <td>25.571429</td>\n",
       "    </tr>\n",
       "    <tr>\n",
       "      <th>4</th>\n",
       "      <td>11.485714</td>\n",
       "      <td>68.142857</td>\n",
       "      <td>42.285714</td>\n",
       "      <td>7.571429</td>\n",
       "      <td>54.571429</td>\n",
       "    </tr>\n",
       "  </tbody>\n",
       "</table>\n",
       "</div>"
      ],
      "text/plain": [
       "   Avg PM2.5  Avg Max Temp  Avg Dew Temp  Avg Wind Speed  Avg Humidity\n",
       "0   8.642857     64.857143     33.571429        9.142857     48.357143\n",
       "1  36.614286     64.000000     40.000000        6.571429     60.500000\n",
       "2  24.628571     77.428571     36.714286        6.428571     44.142857\n",
       "3   9.300000     84.000000     27.428571        7.142857     25.571429\n",
       "4  11.485714     68.142857     42.285714        7.571429     54.571429"
      ]
     },
     "execution_count": 3,
     "metadata": {},
     "output_type": "execute_result"
    }
   ],
   "source": [
    "df.head()"
   ]
  },
  {
   "cell_type": "code",
   "execution_count": 4,
   "metadata": {},
   "outputs": [
    {
     "data": {
      "text/html": [
       "<div>\n",
       "<style scoped>\n",
       "    .dataframe tbody tr th:only-of-type {\n",
       "        vertical-align: middle;\n",
       "    }\n",
       "\n",
       "    .dataframe tbody tr th {\n",
       "        vertical-align: top;\n",
       "    }\n",
       "\n",
       "    .dataframe thead th {\n",
       "        text-align: right;\n",
       "    }\n",
       "</style>\n",
       "<table border=\"1\" class=\"dataframe\">\n",
       "  <thead>\n",
       "    <tr style=\"text-align: right;\">\n",
       "      <th></th>\n",
       "      <th>Avg PM2.5</th>\n",
       "      <th>Avg Max Temp</th>\n",
       "      <th>Avg Dew Temp</th>\n",
       "      <th>Avg Wind Speed</th>\n",
       "      <th>Avg Humidity</th>\n",
       "    </tr>\n",
       "  </thead>\n",
       "  <tbody>\n",
       "    <tr>\n",
       "      <th>count</th>\n",
       "      <td>449.000000</td>\n",
       "      <td>449.000000</td>\n",
       "      <td>449.000000</td>\n",
       "      <td>449.000000</td>\n",
       "      <td>449.000000</td>\n",
       "    </tr>\n",
       "    <tr>\n",
       "      <th>mean</th>\n",
       "      <td>15.151098</td>\n",
       "      <td>75.795737</td>\n",
       "      <td>49.840280</td>\n",
       "      <td>8.876869</td>\n",
       "      <td>60.937480</td>\n",
       "    </tr>\n",
       "    <tr>\n",
       "      <th>std</th>\n",
       "      <td>5.585026</td>\n",
       "      <td>7.451177</td>\n",
       "      <td>8.928992</td>\n",
       "      <td>2.263398</td>\n",
       "      <td>9.173827</td>\n",
       "    </tr>\n",
       "    <tr>\n",
       "      <th>min</th>\n",
       "      <td>5.985714</td>\n",
       "      <td>57.571429</td>\n",
       "      <td>21.571429</td>\n",
       "      <td>4.000000</td>\n",
       "      <td>25.571429</td>\n",
       "    </tr>\n",
       "    <tr>\n",
       "      <th>25%</th>\n",
       "      <td>10.828571</td>\n",
       "      <td>70.714286</td>\n",
       "      <td>43.571429</td>\n",
       "      <td>8.000000</td>\n",
       "      <td>54.714286</td>\n",
       "    </tr>\n",
       "    <tr>\n",
       "      <th>50%</th>\n",
       "      <td>14.128571</td>\n",
       "      <td>75.571429</td>\n",
       "      <td>51.000000</td>\n",
       "      <td>8.714286</td>\n",
       "      <td>62.142857</td>\n",
       "    </tr>\n",
       "    <tr>\n",
       "      <th>75%</th>\n",
       "      <td>18.800000</td>\n",
       "      <td>81.000000</td>\n",
       "      <td>57.428571</td>\n",
       "      <td>9.428571</td>\n",
       "      <td>67.785714</td>\n",
       "    </tr>\n",
       "    <tr>\n",
       "      <th>max</th>\n",
       "      <td>36.614286</td>\n",
       "      <td>95.857143</td>\n",
       "      <td>65.571429</td>\n",
       "      <td>37.857143</td>\n",
       "      <td>86.571429</td>\n",
       "    </tr>\n",
       "  </tbody>\n",
       "</table>\n",
       "</div>"
      ],
      "text/plain": [
       "        Avg PM2.5  Avg Max Temp  Avg Dew Temp  Avg Wind Speed  Avg Humidity\n",
       "count  449.000000    449.000000    449.000000      449.000000    449.000000\n",
       "mean    15.151098     75.795737     49.840280        8.876869     60.937480\n",
       "std      5.585026      7.451177      8.928992        2.263398      9.173827\n",
       "min      5.985714     57.571429     21.571429        4.000000     25.571429\n",
       "25%     10.828571     70.714286     43.571429        8.000000     54.714286\n",
       "50%     14.128571     75.571429     51.000000        8.714286     62.142857\n",
       "75%     18.800000     81.000000     57.428571        9.428571     67.785714\n",
       "max     36.614286     95.857143     65.571429       37.857143     86.571429"
      ]
     },
     "execution_count": 4,
     "metadata": {},
     "output_type": "execute_result"
    }
   ],
   "source": [
    "df.describe()"
   ]
  },
  {
   "cell_type": "code",
   "execution_count": 5,
   "metadata": {},
   "outputs": [
    {
     "data": {
      "text/plain": [
       "(449, 5)"
      ]
     },
     "execution_count": 5,
     "metadata": {},
     "output_type": "execute_result"
    }
   ],
   "source": [
    "df.shape"
   ]
  },
  {
   "cell_type": "code",
   "execution_count": 6,
   "metadata": {},
   "outputs": [],
   "source": [
    "X = df.drop('Avg PM2.5',axis=1)\n",
    "y = np.asarray(df['Avg PM2.5'], dtype=\"|S6\")"
   ]
  },
  {
   "cell_type": "code",
   "execution_count": 7,
   "metadata": {},
   "outputs": [],
   "source": [
    "from sklearn.model_selection import train_test_split"
   ]
  },
  {
   "cell_type": "code",
   "execution_count": 8,
   "metadata": {},
   "outputs": [],
   "source": [
    "X_train, X_test, y_train, y_test = train_test_split(X, y, test_size = 0.2, random_state = 0)"
   ]
  },
  {
   "cell_type": "code",
   "execution_count": 9,
   "metadata": {},
   "outputs": [
    {
     "data": {
      "text/plain": [
       "(359, 4)"
      ]
     },
     "execution_count": 9,
     "metadata": {},
     "output_type": "execute_result"
    }
   ],
   "source": [
    "X_train.shape"
   ]
  },
  {
   "cell_type": "code",
   "execution_count": 10,
   "metadata": {},
   "outputs": [
    {
     "data": {
      "text/plain": [
       "(90, 4)"
      ]
     },
     "execution_count": 10,
     "metadata": {},
     "output_type": "execute_result"
    }
   ],
   "source": [
    "X_test.shape"
   ]
  },
  {
   "cell_type": "code",
   "execution_count": 11,
   "metadata": {},
   "outputs": [
    {
     "data": {
      "text/plain": [
       "(359,)"
      ]
     },
     "execution_count": 11,
     "metadata": {},
     "output_type": "execute_result"
    }
   ],
   "source": [
    "y_train.shape"
   ]
  },
  {
   "cell_type": "code",
   "execution_count": 12,
   "metadata": {},
   "outputs": [
    {
     "data": {
      "text/plain": [
       "(90,)"
      ]
     },
     "execution_count": 12,
     "metadata": {},
     "output_type": "execute_result"
    }
   ],
   "source": [
    "y_test.shape"
   ]
  },
  {
   "cell_type": "code",
   "execution_count": 13,
   "metadata": {},
   "outputs": [],
   "source": [
    "from sklearn.preprocessing import StandardScaler"
   ]
  },
  {
   "cell_type": "code",
   "execution_count": 14,
   "metadata": {},
   "outputs": [],
   "source": [
    "scaler = StandardScaler()"
   ]
  },
  {
   "cell_type": "code",
   "execution_count": 15,
   "metadata": {},
   "outputs": [
    {
     "data": {
      "text/plain": [
       "StandardScaler(copy=True, with_mean=True, with_std=True)"
      ]
     },
     "execution_count": 15,
     "metadata": {},
     "output_type": "execute_result"
    }
   ],
   "source": [
    "scaler.fit(X_train)"
   ]
  },
  {
   "cell_type": "code",
   "execution_count": 16,
   "metadata": {},
   "outputs": [],
   "source": [
    "X_train = scaler.transform(X_train)\n",
    "X_test = scaler.transform(X_test)"
   ]
  },
  {
   "cell_type": "code",
   "execution_count": null,
   "metadata": {},
   "outputs": [],
   "source": []
  },
  {
   "cell_type": "code",
   "execution_count": 17,
   "metadata": {},
   "outputs": [],
   "source": [
    "from sklearn.neural_network import MLPClassifier"
   ]
  },
  {
   "cell_type": "code",
   "execution_count": 18,
   "metadata": {},
   "outputs": [],
   "source": [
    "mlp = MLPClassifier(hidden_layer_sizes=(4,4,4), max_iter=2000)"
   ]
  },
  {
   "cell_type": "code",
   "execution_count": 19,
   "metadata": {},
   "outputs": [
    {
     "data": {
      "text/plain": [
       "MLPClassifier(activation='relu', alpha=0.0001, batch_size='auto', beta_1=0.9,\n",
       "       beta_2=0.999, early_stopping=False, epsilon=1e-08,\n",
       "       hidden_layer_sizes=(4, 4, 4), learning_rate='constant',\n",
       "       learning_rate_init=0.001, max_iter=2000, momentum=0.9,\n",
       "       nesterovs_momentum=True, power_t=0.5, random_state=None,\n",
       "       shuffle=True, solver='adam', tol=0.0001, validation_fraction=0.1,\n",
       "       verbose=False, warm_start=False)"
      ]
     },
     "execution_count": 19,
     "metadata": {},
     "output_type": "execute_result"
    }
   ],
   "source": [
    "mlp.fit(X_train, y_train)"
   ]
  },
  {
   "cell_type": "code",
   "execution_count": 20,
   "metadata": {},
   "outputs": [],
   "source": [
    "predictions = mlp.predict(X_test)"
   ]
  },
  {
   "cell_type": "code",
   "execution_count": 21,
   "metadata": {},
   "outputs": [],
   "source": [
    "from sklearn.metrics import classification_report,confusion_matrix"
   ]
  },
  {
   "cell_type": "code",
   "execution_count": 22,
   "metadata": {},
   "outputs": [
    {
     "name": "stdout",
     "output_type": "stream",
     "text": [
      "[[0 0 0 ... 0 0 0]\n",
      " [0 0 0 ... 0 0 0]\n",
      " [0 0 0 ... 0 0 0]\n",
      " ...\n",
      " [0 0 0 ... 0 0 0]\n",
      " [0 0 0 ... 0 0 0]\n",
      " [0 0 0 ... 0 0 0]]\n"
     ]
    }
   ],
   "source": [
    "print(confusion_matrix(y_test,predictions))"
   ]
  },
  {
   "cell_type": "code",
   "execution_count": 23,
   "metadata": {},
   "outputs": [
    {
     "name": "stdout",
     "output_type": "stream",
     "text": [
      "             precision    recall  f1-score   support\n",
      "\n",
      "    b'10.0'       0.00      0.00      0.00         1\n",
      "  b'10.014'       0.00      0.00      0.00         1\n",
      "  b'10.042'       0.00      0.00      0.00         1\n",
      "  b'10.142'       0.00      0.00      0.00         1\n",
      "    b'10.2'       0.00      0.00      0.00         0\n",
      "  b'10.271'       0.00      0.00      0.00         1\n",
      "  b'10.371'       0.00      0.00      0.00         1\n",
      "    b'10.4'       0.00      0.00      0.00         1\n",
      "  b'10.457'       0.00      0.00      0.00         1\n",
      "    b'10.5'       0.00      0.00      0.00         0\n",
      "  b'10.542'       0.00      0.00      0.00         1\n",
      "  b'10.671'       0.00      0.00      0.00         1\n",
      "  b'10.785'       0.00      0.00      0.00         1\n",
      "  b'10.828'       0.00      0.00      0.00         0\n",
      "    b'10.9'       0.00      0.00      0.00         0\n",
      "  b'10.914'       0.00      0.00      0.00         1\n",
      "  b'11.071'       0.00      0.00      0.00         0\n",
      "  b'11.228'       0.00      0.00      0.00         0\n",
      "  b'11.285'       0.00      0.00      0.00         1\n",
      "  b'11.585'       0.00      0.00      0.00         2\n",
      "  b'11.628'       0.00      0.00      0.00         1\n",
      "  b'11.685'       0.00      0.00      0.00         1\n",
      "    b'11.7'       0.00      0.00      0.00         1\n",
      "  b'11.857'       0.00      0.00      0.00         1\n",
      "  b'11.871'       0.00      0.00      0.00         1\n",
      "  b'11.928'       0.00      0.00      0.00         2\n",
      "    b'12.1'       0.00      0.00      0.00         1\n",
      "  b'12.428'       0.00      0.00      0.00         1\n",
      "  b'12.471'       0.00      0.00      0.00         1\n",
      "  b'12.528'       0.00      0.00      0.00         1\n",
      "  b'12.642'       0.00      0.00      0.00         1\n",
      "  b'12.728'       0.00      0.00      0.00         1\n",
      "  b'12.742'       0.00      0.00      0.00         1\n",
      "  b'12.814'       0.00      0.00      0.00         0\n",
      "    b'12.9'       0.00      0.00      0.00         1\n",
      "    b'13.1'       0.00      0.00      0.00         1\n",
      "  b'13.185'       0.00      0.00      0.00         0\n",
      "  b'13.228'       0.00      0.00      0.00         1\n",
      "  b'13.242'       0.00      0.00      0.00         1\n",
      "    b'13.3'       0.00      0.00      0.00         1\n",
      "  b'13.428'       0.00      0.00      0.00         1\n",
      "  b'13.628'       0.00      0.00      0.00         1\n",
      "  b'13.657'       0.00      0.00      0.00         0\n",
      "  b'13.828'       0.00      0.00      0.00         0\n",
      "  b'13.914'       0.00      0.00      0.00         1\n",
      "  b'14.014'       0.00      0.00      0.00         0\n",
      "  b'14.114'       0.00      0.00      0.00         1\n",
      "  b'14.242'       0.00      0.00      0.00         1\n",
      "  b'14.257'       0.00      0.00      0.00         2\n",
      "  b'14.428'       0.00      0.00      0.00         0\n",
      "  b'14.542'       0.00      0.00      0.00         1\n",
      "  b'14.742'       0.00      0.00      0.00         0\n",
      "  b'14.757'       0.00      0.00      0.00         1\n",
      "  b'15.014'       0.00      0.00      0.00         0\n",
      "  b'15.414'       0.00      0.00      0.00         1\n",
      "  b'15.428'       0.00      0.00      0.00         1\n",
      "  b'15.471'       0.00      0.00      0.00         0\n",
      "  b'15.785'       0.00      0.00      0.00         1\n",
      "    b'16.0'       0.00      0.00      0.00         1\n",
      "  b'16.157'       0.00      0.00      0.00         1\n",
      "  b'16.171'       0.00      0.00      0.00         1\n",
      "    b'16.2'       0.00      0.00      0.00         0\n",
      "    b'16.5'       0.00      0.00      0.00         1\n",
      "  b'16.528'       0.00      0.00      0.00         1\n",
      "  b'17.071'       0.00      0.00      0.00         1\n",
      "  b'17.228'       0.00      0.00      0.00         1\n",
      "  b'17.514'       0.00      0.00      0.00         0\n",
      "  b'17.614'       0.00      0.00      0.00         0\n",
      "  b'17.842'       0.00      0.00      0.00         0\n",
      "    b'18.0'       0.00      0.00      0.00         1\n",
      "  b'18.542'       0.00      0.00      0.00         0\n",
      "  b'18.557'       0.00      0.00      0.00         1\n",
      "  b'19.085'       0.00      0.00      0.00         1\n",
      "  b'19.157'       0.00      0.00      0.00         0\n",
      "  b'19.242'       0.00      0.00      0.00         0\n",
      "  b'19.314'       0.00      0.00      0.00         0\n",
      "  b'19.342'       0.00      0.00      0.00         0\n",
      "  b'19.657'       0.00      0.00      0.00         1\n",
      "  b'19.914'       0.00      0.00      0.00         0\n",
      "  b'20.114'       0.00      0.00      0.00         1\n",
      "  b'20.457'       0.00      0.00      0.00         1\n",
      "  b'20.728'       0.00      0.00      0.00         1\n",
      "  b'20.757'       0.00      0.00      0.00         1\n",
      "  b'21.314'       0.00      0.00      0.00         1\n",
      "  b'21.871'       0.00      0.00      0.00         0\n",
      "  b'22.442'       0.00      0.00      0.00         1\n",
      "  b'22.814'       0.00      0.00      0.00         1\n",
      "  b'22.985'       0.00      0.00      0.00         1\n",
      "  b'24.028'       0.00      0.00      0.00         0\n",
      "  b'24.442'       0.00      0.00      0.00         1\n",
      "  b'24.628'       0.00      0.00      0.00         0\n",
      "  b'24.885'       0.00      0.00      0.00         1\n",
      "  b'25.828'       0.00      0.00      0.00         1\n",
      "  b'26.357'       0.00      0.00      0.00         0\n",
      "    b'31.3'       0.00      0.00      0.00         1\n",
      "  b'36.614'       0.00      0.00      0.00         1\n",
      "  b'5.9857'       0.00      0.00      0.00         1\n",
      "  b'6.1285'       0.00      0.00      0.00         1\n",
      "  b'6.7142'       0.00      0.00      0.00         0\n",
      "  b'6.8285'       0.00      0.00      0.00         1\n",
      "  b'7.5142'       0.00      0.00      0.00         0\n",
      "  b'7.6714'       0.00      0.00      0.00         0\n",
      "  b'7.7285'       0.00      0.00      0.00         0\n",
      "  b'7.8285'       0.00      0.00      0.00         1\n",
      "  b'8.1142'       0.00      0.00      0.00         1\n",
      "     b'8.2'       0.00      0.00      0.00         1\n",
      "  b'8.5285'       0.00      0.00      0.00         1\n",
      "     b'8.6'       0.00      0.00      0.00         1\n",
      "     b'8.7'       0.00      0.00      0.00         1\n",
      "  b'8.7571'       0.00      0.00      0.00         1\n",
      "  b'8.9285'       0.00      0.00      0.00         1\n",
      "  b'9.0571'       0.00      0.00      0.00         0\n",
      "  b'9.0714'       0.00      0.00      0.00         0\n",
      "  b'9.3571'       0.00      0.00      0.00         1\n",
      "  b'9.3714'       0.00      0.00      0.00         1\n",
      "  b'9.4857'       0.00      0.00      0.00         1\n",
      "  b'9.5285'       0.00      0.00      0.00         1\n",
      "  b'9.6714'       0.00      0.00      0.00         1\n",
      "  b'9.6857'       0.00      0.00      0.00         1\n",
      "  b'9.7285'       0.00      0.00      0.00         1\n",
      "     b'9.8'       0.00      0.00      0.00         0\n",
      "  b'9.8142'       0.00      0.00      0.00         1\n",
      "  b'9.8428'       0.00      0.00      0.00         1\n",
      "  b'9.9857'       0.00      0.00      0.00         0\n",
      "\n",
      "avg / total       0.00      0.00      0.00        90\n",
      "\n"
     ]
    },
    {
     "name": "stderr",
     "output_type": "stream",
     "text": [
      "C:\\Users\\theda\\AppData\\Local\\Continuum\\anaconda3\\lib\\site-packages\\sklearn\\metrics\\classification.py:1135: UndefinedMetricWarning: Precision and F-score are ill-defined and being set to 0.0 in labels with no predicted samples.\n",
      "  'precision', 'predicted', average, warn_for)\n",
      "C:\\Users\\theda\\AppData\\Local\\Continuum\\anaconda3\\lib\\site-packages\\sklearn\\metrics\\classification.py:1137: UndefinedMetricWarning: Recall and F-score are ill-defined and being set to 0.0 in labels with no true samples.\n",
      "  'recall', 'true', average, warn_for)\n"
     ]
    }
   ],
   "source": [
    "print(classification_report(y_test,predictions))"
   ]
  },
  {
   "cell_type": "code",
   "execution_count": null,
   "metadata": {},
   "outputs": [],
   "source": []
  }
 ],
 "metadata": {
  "kernelspec": {
   "display_name": "Python 3",
   "language": "python",
   "name": "python3"
  },
  "language_info": {
   "codemirror_mode": {
    "name": "ipython",
    "version": 3
   },
   "file_extension": ".py",
   "mimetype": "text/x-python",
   "name": "python",
   "nbconvert_exporter": "python",
   "pygments_lexer": "ipython3",
   "version": "3.6.5"
  }
 },
 "nbformat": 4,
 "nbformat_minor": 2
}
