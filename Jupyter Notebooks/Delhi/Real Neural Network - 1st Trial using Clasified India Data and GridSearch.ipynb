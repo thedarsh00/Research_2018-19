{
 "cells": [
  {
   "cell_type": "code",
   "execution_count": 1,
   "metadata": {},
   "outputs": [],
   "source": [
    "%matplotlib inline               \n",
    "import pandas as pd\n",
    "import numpy as np\n",
    "import matplotlib.pyplot as plt"
   ]
  },
  {
   "cell_type": "code",
   "execution_count": 3,
   "metadata": {},
   "outputs": [],
   "source": [
    "df = pd.read_csv('india data classified.csv')"
   ]
  },
  {
   "cell_type": "code",
   "execution_count": 4,
   "metadata": {},
   "outputs": [
    {
     "data": {
      "text/html": [
       "<div>\n",
       "<style scoped>\n",
       "    .dataframe tbody tr th:only-of-type {\n",
       "        vertical-align: middle;\n",
       "    }\n",
       "\n",
       "    .dataframe tbody tr th {\n",
       "        vertical-align: top;\n",
       "    }\n",
       "\n",
       "    .dataframe thead th {\n",
       "        text-align: right;\n",
       "    }\n",
       "</style>\n",
       "<table border=\"1\" class=\"dataframe\">\n",
       "  <thead>\n",
       "    <tr style=\"text-align: right;\">\n",
       "      <th></th>\n",
       "      <th>PM 2.5</th>\n",
       "      <th>Max Temp</th>\n",
       "      <th>Avg Dew Point</th>\n",
       "      <th>Max Wind Speed</th>\n",
       "      <th>Avg Humidity</th>\n",
       "      <th>Max Humidity</th>\n",
       "      <th>Max Pressure</th>\n",
       "      <th>Min Pressure</th>\n",
       "      <th>Precipitation</th>\n",
       "    </tr>\n",
       "  </thead>\n",
       "  <tbody>\n",
       "    <tr>\n",
       "      <th>0</th>\n",
       "      <td>0</td>\n",
       "      <td>96</td>\n",
       "      <td>70</td>\n",
       "      <td>9</td>\n",
       "      <td>58.5</td>\n",
       "      <td>83</td>\n",
       "      <td>29.76</td>\n",
       "      <td>29.65</td>\n",
       "      <td>0.08</td>\n",
       "    </tr>\n",
       "    <tr>\n",
       "      <th>1</th>\n",
       "      <td>0</td>\n",
       "      <td>98</td>\n",
       "      <td>63</td>\n",
       "      <td>18</td>\n",
       "      <td>51.0</td>\n",
       "      <td>79</td>\n",
       "      <td>29.81</td>\n",
       "      <td>29.48</td>\n",
       "      <td>0.12</td>\n",
       "    </tr>\n",
       "    <tr>\n",
       "      <th>2</th>\n",
       "      <td>0</td>\n",
       "      <td>97</td>\n",
       "      <td>71</td>\n",
       "      <td>22</td>\n",
       "      <td>49.0</td>\n",
       "      <td>67</td>\n",
       "      <td>29.75</td>\n",
       "      <td>29.65</td>\n",
       "      <td>0.00</td>\n",
       "    </tr>\n",
       "    <tr>\n",
       "      <th>3</th>\n",
       "      <td>0</td>\n",
       "      <td>99</td>\n",
       "      <td>69</td>\n",
       "      <td>12</td>\n",
       "      <td>49.5</td>\n",
       "      <td>68</td>\n",
       "      <td>29.76</td>\n",
       "      <td>29.65</td>\n",
       "      <td>0.01</td>\n",
       "    </tr>\n",
       "    <tr>\n",
       "      <th>4</th>\n",
       "      <td>0</td>\n",
       "      <td>94</td>\n",
       "      <td>75</td>\n",
       "      <td>17</td>\n",
       "      <td>58.5</td>\n",
       "      <td>71</td>\n",
       "      <td>29.63</td>\n",
       "      <td>29.53</td>\n",
       "      <td>0.00</td>\n",
       "    </tr>\n",
       "  </tbody>\n",
       "</table>\n",
       "</div>"
      ],
      "text/plain": [
       "   PM 2.5  Max Temp  Avg Dew Point  Max Wind Speed  Avg Humidity  \\\n",
       "0       0        96             70               9          58.5   \n",
       "1       0        98             63              18          51.0   \n",
       "2       0        97             71              22          49.0   \n",
       "3       0        99             69              12          49.5   \n",
       "4       0        94             75              17          58.5   \n",
       "\n",
       "   Max Humidity  Max Pressure  Min Pressure  Precipitation  \n",
       "0            83         29.76         29.65           0.08  \n",
       "1            79         29.81         29.48           0.12  \n",
       "2            67         29.75         29.65           0.00  \n",
       "3            68         29.76         29.65           0.01  \n",
       "4            71         29.63         29.53           0.00  "
      ]
     },
     "execution_count": 4,
     "metadata": {},
     "output_type": "execute_result"
    }
   ],
   "source": [
    "df.head()"
   ]
  },
  {
   "cell_type": "code",
   "execution_count": 5,
   "metadata": {},
   "outputs": [
    {
     "data": {
      "text/html": [
       "<div>\n",
       "<style scoped>\n",
       "    .dataframe tbody tr th:only-of-type {\n",
       "        vertical-align: middle;\n",
       "    }\n",
       "\n",
       "    .dataframe tbody tr th {\n",
       "        vertical-align: top;\n",
       "    }\n",
       "\n",
       "    .dataframe thead th {\n",
       "        text-align: right;\n",
       "    }\n",
       "</style>\n",
       "<table border=\"1\" class=\"dataframe\">\n",
       "  <thead>\n",
       "    <tr style=\"text-align: right;\">\n",
       "      <th></th>\n",
       "      <th>PM 2.5</th>\n",
       "      <th>Max Temp</th>\n",
       "      <th>Avg Dew Point</th>\n",
       "      <th>Max Wind Speed</th>\n",
       "      <th>Avg Humidity</th>\n",
       "      <th>Max Humidity</th>\n",
       "      <th>Max Pressure</th>\n",
       "      <th>Min Pressure</th>\n",
       "      <th>Precipitation</th>\n",
       "    </tr>\n",
       "  </thead>\n",
       "  <tbody>\n",
       "    <tr>\n",
       "      <th>count</th>\n",
       "      <td>128.000000</td>\n",
       "      <td>128.000000</td>\n",
       "      <td>128.000000</td>\n",
       "      <td>128.000000</td>\n",
       "      <td>128.000000</td>\n",
       "      <td>128.000000</td>\n",
       "      <td>128.000000</td>\n",
       "      <td>128.000000</td>\n",
       "      <td>128.000000</td>\n",
       "    </tr>\n",
       "    <tr>\n",
       "      <th>mean</th>\n",
       "      <td>2.054688</td>\n",
       "      <td>91.507812</td>\n",
       "      <td>66.187500</td>\n",
       "      <td>9.773438</td>\n",
       "      <td>57.382812</td>\n",
       "      <td>79.539062</td>\n",
       "      <td>29.812734</td>\n",
       "      <td>29.687656</td>\n",
       "      <td>0.012734</td>\n",
       "    </tr>\n",
       "    <tr>\n",
       "      <th>std</th>\n",
       "      <td>0.916245</td>\n",
       "      <td>11.342205</td>\n",
       "      <td>9.441698</td>\n",
       "      <td>5.317057</td>\n",
       "      <td>13.368414</td>\n",
       "      <td>15.585124</td>\n",
       "      <td>0.211812</td>\n",
       "      <td>0.213757</td>\n",
       "      <td>0.065685</td>\n",
       "    </tr>\n",
       "    <tr>\n",
       "      <th>min</th>\n",
       "      <td>0.000000</td>\n",
       "      <td>58.000000</td>\n",
       "      <td>45.000000</td>\n",
       "      <td>0.000000</td>\n",
       "      <td>14.500000</td>\n",
       "      <td>22.000000</td>\n",
       "      <td>29.420000</td>\n",
       "      <td>29.310000</td>\n",
       "      <td>0.000000</td>\n",
       "    </tr>\n",
       "    <tr>\n",
       "      <th>25%</th>\n",
       "      <td>2.000000</td>\n",
       "      <td>84.000000</td>\n",
       "      <td>60.000000</td>\n",
       "      <td>6.000000</td>\n",
       "      <td>49.500000</td>\n",
       "      <td>73.000000</td>\n",
       "      <td>29.620000</td>\n",
       "      <td>29.497500</td>\n",
       "      <td>0.000000</td>\n",
       "    </tr>\n",
       "    <tr>\n",
       "      <th>50%</th>\n",
       "      <td>2.000000</td>\n",
       "      <td>95.000000</td>\n",
       "      <td>68.000000</td>\n",
       "      <td>9.000000</td>\n",
       "      <td>59.500000</td>\n",
       "      <td>83.000000</td>\n",
       "      <td>29.805000</td>\n",
       "      <td>29.650000</td>\n",
       "      <td>0.000000</td>\n",
       "    </tr>\n",
       "    <tr>\n",
       "      <th>75%</th>\n",
       "      <td>3.000000</td>\n",
       "      <td>98.000000</td>\n",
       "      <td>74.000000</td>\n",
       "      <td>12.250000</td>\n",
       "      <td>68.000000</td>\n",
       "      <td>90.250000</td>\n",
       "      <td>30.000000</td>\n",
       "      <td>29.862500</td>\n",
       "      <td>0.000000</td>\n",
       "    </tr>\n",
       "    <tr>\n",
       "      <th>max</th>\n",
       "      <td>5.000000</td>\n",
       "      <td>113.000000</td>\n",
       "      <td>80.000000</td>\n",
       "      <td>34.000000</td>\n",
       "      <td>81.500000</td>\n",
       "      <td>100.000000</td>\n",
       "      <td>30.220000</td>\n",
       "      <td>30.120000</td>\n",
       "      <td>0.630000</td>\n",
       "    </tr>\n",
       "  </tbody>\n",
       "</table>\n",
       "</div>"
      ],
      "text/plain": [
       "           PM 2.5    Max Temp  Avg Dew Point  Max Wind Speed  Avg Humidity  \\\n",
       "count  128.000000  128.000000     128.000000      128.000000    128.000000   \n",
       "mean     2.054688   91.507812      66.187500        9.773438     57.382812   \n",
       "std      0.916245   11.342205       9.441698        5.317057     13.368414   \n",
       "min      0.000000   58.000000      45.000000        0.000000     14.500000   \n",
       "25%      2.000000   84.000000      60.000000        6.000000     49.500000   \n",
       "50%      2.000000   95.000000      68.000000        9.000000     59.500000   \n",
       "75%      3.000000   98.000000      74.000000       12.250000     68.000000   \n",
       "max      5.000000  113.000000      80.000000       34.000000     81.500000   \n",
       "\n",
       "       Max Humidity  Max Pressure  Min Pressure  Precipitation  \n",
       "count    128.000000    128.000000    128.000000     128.000000  \n",
       "mean      79.539062     29.812734     29.687656       0.012734  \n",
       "std       15.585124      0.211812      0.213757       0.065685  \n",
       "min       22.000000     29.420000     29.310000       0.000000  \n",
       "25%       73.000000     29.620000     29.497500       0.000000  \n",
       "50%       83.000000     29.805000     29.650000       0.000000  \n",
       "75%       90.250000     30.000000     29.862500       0.000000  \n",
       "max      100.000000     30.220000     30.120000       0.630000  "
      ]
     },
     "execution_count": 5,
     "metadata": {},
     "output_type": "execute_result"
    }
   ],
   "source": [
    "df.describe()"
   ]
  },
  {
   "cell_type": "code",
   "execution_count": 6,
   "metadata": {},
   "outputs": [
    {
     "data": {
      "text/plain": [
       "(128, 9)"
      ]
     },
     "execution_count": 6,
     "metadata": {},
     "output_type": "execute_result"
    }
   ],
   "source": [
    "df.shape"
   ]
  },
  {
   "cell_type": "code",
   "execution_count": 8,
   "metadata": {},
   "outputs": [],
   "source": [
    "X = df.drop('PM 2.5',axis=1)\n",
    "y = np.asarray(df['PM 2.5'], dtype=\"|S6\")"
   ]
  },
  {
   "cell_type": "code",
   "execution_count": 9,
   "metadata": {},
   "outputs": [],
   "source": [
    "from sklearn.model_selection import train_test_split\n",
    "X_train, X_test, y_train, y_test = train_test_split(X, y, test_size = 0.2, random_state = 0)"
   ]
  },
  {
   "cell_type": "code",
   "execution_count": 10,
   "metadata": {},
   "outputs": [
    {
     "data": {
      "text/plain": [
       "(102, 8)"
      ]
     },
     "execution_count": 10,
     "metadata": {},
     "output_type": "execute_result"
    }
   ],
   "source": [
    "X_train.shape"
   ]
  },
  {
   "cell_type": "code",
   "execution_count": 11,
   "metadata": {},
   "outputs": [
    {
     "data": {
      "text/plain": [
       "(26, 8)"
      ]
     },
     "execution_count": 11,
     "metadata": {},
     "output_type": "execute_result"
    }
   ],
   "source": [
    "X_test.shape"
   ]
  },
  {
   "cell_type": "code",
   "execution_count": 12,
   "metadata": {},
   "outputs": [
    {
     "data": {
      "text/plain": [
       "(102,)"
      ]
     },
     "execution_count": 12,
     "metadata": {},
     "output_type": "execute_result"
    }
   ],
   "source": [
    "y_train.shape"
   ]
  },
  {
   "cell_type": "code",
   "execution_count": 13,
   "metadata": {},
   "outputs": [
    {
     "data": {
      "text/plain": [
       "(26,)"
      ]
     },
     "execution_count": 13,
     "metadata": {},
     "output_type": "execute_result"
    }
   ],
   "source": [
    "y_test.shape"
   ]
  },
  {
   "cell_type": "code",
   "execution_count": 14,
   "metadata": {},
   "outputs": [],
   "source": [
    "from sklearn.preprocessing import StandardScaler\n",
    "scaler = StandardScaler()"
   ]
  },
  {
   "cell_type": "code",
   "execution_count": 15,
   "metadata": {},
   "outputs": [
    {
     "data": {
      "text/plain": [
       "StandardScaler(copy=True, with_mean=True, with_std=True)"
      ]
     },
     "execution_count": 15,
     "metadata": {},
     "output_type": "execute_result"
    }
   ],
   "source": [
    "scaler.fit(X_train)"
   ]
  },
  {
   "cell_type": "code",
   "execution_count": 16,
   "metadata": {},
   "outputs": [],
   "source": [
    "X_train = scaler.transform(X_train)\n",
    "X_test = scaler.transform(X_test)"
   ]
  },
  {
   "cell_type": "code",
   "execution_count": 18,
   "metadata": {},
   "outputs": [],
   "source": [
    "from sklearn.neural_network import MLPClassifier\n",
    "\n",
    "mlp = MLPClassifier(max_iter=1000)\n",
    "\n",
    "parameter_space = {\n",
    "    'hidden_layer_sizes': [(4,4,4), (8,8,8), (12,12,12)],\n",
    "    'activation': ['tanh', 'relu'],\n",
    "    'solver': ['sgd', 'adam'],\n",
    "    'alpha': [0.0001, 0.05],\n",
    "    'learning_rate': ['constant','adaptive'],\n",
    "}"
   ]
  },
  {
   "cell_type": "code",
   "execution_count": 19,
   "metadata": {},
   "outputs": [
    {
     "data": {
      "text/plain": [
       "GridSearchCV(cv=3, error_score='raise',\n",
       "       estimator=MLPClassifier(activation='relu', alpha=0.0001, batch_size='auto', beta_1=0.9,\n",
       "       beta_2=0.999, early_stopping=False, epsilon=1e-08,\n",
       "       hidden_layer_sizes=(100,), learning_rate='constant',\n",
       "       learning_rate_init=0.001, max_iter=1000, momentum=0.9,\n",
       "       nesterovs_momentum=True, power_t=0.5, random_state=None,\n",
       "       shuffle=True, solver='adam', tol=0.0001, validation_fraction=0.1,\n",
       "       verbose=False, warm_start=False),\n",
       "       fit_params=None, iid=True, n_jobs=-1,\n",
       "       param_grid={'hidden_layer_sizes': [(4, 4, 4), (8, 8, 8), (12, 12, 12)], 'activation': ['tanh', 'relu'], 'solver': ['sgd', 'adam'], 'alpha': [0.0001, 0.05], 'learning_rate': ['constant', 'adaptive']},\n",
       "       pre_dispatch='2*n_jobs', refit=True, return_train_score='warn',\n",
       "       scoring=None, verbose=0)"
      ]
     },
     "execution_count": 19,
     "metadata": {},
     "output_type": "execute_result"
    }
   ],
   "source": [
    "from sklearn.model_selection import GridSearchCV\n",
    "\n",
    "clf = GridSearchCV(mlp, parameter_space, n_jobs=-1, cv=3)\n",
    "clf.fit(X_train, y_train)"
   ]
  },
  {
   "cell_type": "code",
   "execution_count": 20,
   "metadata": {},
   "outputs": [
    {
     "name": "stdout",
     "output_type": "stream",
     "text": [
      "Best parameters found:\n",
      " {'activation': 'tanh', 'alpha': 0.0001, 'hidden_layer_sizes': (4, 4, 4), 'learning_rate': 'constant', 'solver': 'sgd'}\n",
      "0.569 (+/-0.117) for {'activation': 'tanh', 'alpha': 0.0001, 'hidden_layer_sizes': (4, 4, 4), 'learning_rate': 'constant', 'solver': 'sgd'}\n",
      "0.471 (+/-0.103) for {'activation': 'tanh', 'alpha': 0.0001, 'hidden_layer_sizes': (4, 4, 4), 'learning_rate': 'constant', 'solver': 'adam'}\n",
      "0.520 (+/-0.040) for {'activation': 'tanh', 'alpha': 0.0001, 'hidden_layer_sizes': (4, 4, 4), 'learning_rate': 'adaptive', 'solver': 'sgd'}\n",
      "0.412 (+/-0.096) for {'activation': 'tanh', 'alpha': 0.0001, 'hidden_layer_sizes': (4, 4, 4), 'learning_rate': 'adaptive', 'solver': 'adam'}\n",
      "0.500 (+/-0.151) for {'activation': 'tanh', 'alpha': 0.0001, 'hidden_layer_sizes': (8, 8, 8), 'learning_rate': 'constant', 'solver': 'sgd'}\n",
      "0.431 (+/-0.088) for {'activation': 'tanh', 'alpha': 0.0001, 'hidden_layer_sizes': (8, 8, 8), 'learning_rate': 'constant', 'solver': 'adam'}\n",
      "0.539 (+/-0.098) for {'activation': 'tanh', 'alpha': 0.0001, 'hidden_layer_sizes': (8, 8, 8), 'learning_rate': 'adaptive', 'solver': 'sgd'}\n",
      "0.422 (+/-0.042) for {'activation': 'tanh', 'alpha': 0.0001, 'hidden_layer_sizes': (8, 8, 8), 'learning_rate': 'adaptive', 'solver': 'adam'}\n",
      "0.451 (+/-0.160) for {'activation': 'tanh', 'alpha': 0.0001, 'hidden_layer_sizes': (12, 12, 12), 'learning_rate': 'constant', 'solver': 'sgd'}\n",
      "0.422 (+/-0.121) for {'activation': 'tanh', 'alpha': 0.0001, 'hidden_layer_sizes': (12, 12, 12), 'learning_rate': 'constant', 'solver': 'adam'}\n",
      "0.510 (+/-0.149) for {'activation': 'tanh', 'alpha': 0.0001, 'hidden_layer_sizes': (12, 12, 12), 'learning_rate': 'adaptive', 'solver': 'sgd'}\n",
      "0.441 (+/-0.267) for {'activation': 'tanh', 'alpha': 0.0001, 'hidden_layer_sizes': (12, 12, 12), 'learning_rate': 'adaptive', 'solver': 'adam'}\n",
      "0.510 (+/-0.015) for {'activation': 'tanh', 'alpha': 0.05, 'hidden_layer_sizes': (4, 4, 4), 'learning_rate': 'constant', 'solver': 'sgd'}\n",
      "0.471 (+/-0.104) for {'activation': 'tanh', 'alpha': 0.05, 'hidden_layer_sizes': (4, 4, 4), 'learning_rate': 'constant', 'solver': 'adam'}\n",
      "0.520 (+/-0.040) for {'activation': 'tanh', 'alpha': 0.05, 'hidden_layer_sizes': (4, 4, 4), 'learning_rate': 'adaptive', 'solver': 'sgd'}\n",
      "0.441 (+/-0.146) for {'activation': 'tanh', 'alpha': 0.05, 'hidden_layer_sizes': (4, 4, 4), 'learning_rate': 'adaptive', 'solver': 'adam'}\n",
      "0.471 (+/-0.090) for {'activation': 'tanh', 'alpha': 0.05, 'hidden_layer_sizes': (8, 8, 8), 'learning_rate': 'constant', 'solver': 'sgd'}\n",
      "0.373 (+/-0.088) for {'activation': 'tanh', 'alpha': 0.05, 'hidden_layer_sizes': (8, 8, 8), 'learning_rate': 'constant', 'solver': 'adam'}\n",
      "0.539 (+/-0.056) for {'activation': 'tanh', 'alpha': 0.05, 'hidden_layer_sizes': (8, 8, 8), 'learning_rate': 'adaptive', 'solver': 'sgd'}\n",
      "0.412 (+/-0.149) for {'activation': 'tanh', 'alpha': 0.05, 'hidden_layer_sizes': (8, 8, 8), 'learning_rate': 'adaptive', 'solver': 'adam'}\n",
      "0.520 (+/-0.052) for {'activation': 'tanh', 'alpha': 0.05, 'hidden_layer_sizes': (12, 12, 12), 'learning_rate': 'constant', 'solver': 'sgd'}\n",
      "0.373 (+/-0.135) for {'activation': 'tanh', 'alpha': 0.05, 'hidden_layer_sizes': (12, 12, 12), 'learning_rate': 'constant', 'solver': 'adam'}\n",
      "0.490 (+/-0.078) for {'activation': 'tanh', 'alpha': 0.05, 'hidden_layer_sizes': (12, 12, 12), 'learning_rate': 'adaptive', 'solver': 'sgd'}\n",
      "0.412 (+/-0.191) for {'activation': 'tanh', 'alpha': 0.05, 'hidden_layer_sizes': (12, 12, 12), 'learning_rate': 'adaptive', 'solver': 'adam'}\n",
      "0.520 (+/-0.040) for {'activation': 'relu', 'alpha': 0.0001, 'hidden_layer_sizes': (4, 4, 4), 'learning_rate': 'constant', 'solver': 'sgd'}\n",
      "0.520 (+/-0.097) for {'activation': 'relu', 'alpha': 0.0001, 'hidden_layer_sizes': (4, 4, 4), 'learning_rate': 'constant', 'solver': 'adam'}\n",
      "0.510 (+/-0.052) for {'activation': 'relu', 'alpha': 0.0001, 'hidden_layer_sizes': (4, 4, 4), 'learning_rate': 'adaptive', 'solver': 'sgd'}\n",
      "0.461 (+/-0.104) for {'activation': 'relu', 'alpha': 0.0001, 'hidden_layer_sizes': (4, 4, 4), 'learning_rate': 'adaptive', 'solver': 'adam'}\n",
      "0.510 (+/-0.052) for {'activation': 'relu', 'alpha': 0.0001, 'hidden_layer_sizes': (8, 8, 8), 'learning_rate': 'constant', 'solver': 'sgd'}\n",
      "0.402 (+/-0.238) for {'activation': 'relu', 'alpha': 0.0001, 'hidden_layer_sizes': (8, 8, 8), 'learning_rate': 'constant', 'solver': 'adam'}\n",
      "0.549 (+/-0.055) for {'activation': 'relu', 'alpha': 0.0001, 'hidden_layer_sizes': (8, 8, 8), 'learning_rate': 'adaptive', 'solver': 'sgd'}\n",
      "0.363 (+/-0.141) for {'activation': 'relu', 'alpha': 0.0001, 'hidden_layer_sizes': (8, 8, 8), 'learning_rate': 'adaptive', 'solver': 'adam'}\n",
      "0.441 (+/-0.143) for {'activation': 'relu', 'alpha': 0.0001, 'hidden_layer_sizes': (12, 12, 12), 'learning_rate': 'constant', 'solver': 'sgd'}\n",
      "0.422 (+/-0.200) for {'activation': 'relu', 'alpha': 0.0001, 'hidden_layer_sizes': (12, 12, 12), 'learning_rate': 'constant', 'solver': 'adam'}\n",
      "0.441 (+/-0.057) for {'activation': 'relu', 'alpha': 0.0001, 'hidden_layer_sizes': (12, 12, 12), 'learning_rate': 'adaptive', 'solver': 'sgd'}\n",
      "0.373 (+/-0.107) for {'activation': 'relu', 'alpha': 0.0001, 'hidden_layer_sizes': (12, 12, 12), 'learning_rate': 'adaptive', 'solver': 'adam'}\n",
      "0.539 (+/-0.061) for {'activation': 'relu', 'alpha': 0.05, 'hidden_layer_sizes': (4, 4, 4), 'learning_rate': 'constant', 'solver': 'sgd'}\n",
      "0.490 (+/-0.100) for {'activation': 'relu', 'alpha': 0.05, 'hidden_layer_sizes': (4, 4, 4), 'learning_rate': 'constant', 'solver': 'adam'}\n",
      "0.520 (+/-0.040) for {'activation': 'relu', 'alpha': 0.05, 'hidden_layer_sizes': (4, 4, 4), 'learning_rate': 'adaptive', 'solver': 'sgd'}\n",
      "0.471 (+/-0.027) for {'activation': 'relu', 'alpha': 0.05, 'hidden_layer_sizes': (4, 4, 4), 'learning_rate': 'adaptive', 'solver': 'adam'}\n",
      "0.520 (+/-0.052) for {'activation': 'relu', 'alpha': 0.05, 'hidden_layer_sizes': (8, 8, 8), 'learning_rate': 'constant', 'solver': 'sgd'}\n",
      "0.422 (+/-0.037) for {'activation': 'relu', 'alpha': 0.05, 'hidden_layer_sizes': (8, 8, 8), 'learning_rate': 'constant', 'solver': 'adam'}\n",
      "0.520 (+/-0.100) for {'activation': 'relu', 'alpha': 0.05, 'hidden_layer_sizes': (8, 8, 8), 'learning_rate': 'adaptive', 'solver': 'sgd'}\n",
      "0.402 (+/-0.145) for {'activation': 'relu', 'alpha': 0.05, 'hidden_layer_sizes': (8, 8, 8), 'learning_rate': 'adaptive', 'solver': 'adam'}\n",
      "0.539 (+/-0.017) for {'activation': 'relu', 'alpha': 0.05, 'hidden_layer_sizes': (12, 12, 12), 'learning_rate': 'constant', 'solver': 'sgd'}\n",
      "0.412 (+/-0.181) for {'activation': 'relu', 'alpha': 0.05, 'hidden_layer_sizes': (12, 12, 12), 'learning_rate': 'constant', 'solver': 'adam'}\n",
      "0.490 (+/-0.221) for {'activation': 'relu', 'alpha': 0.05, 'hidden_layer_sizes': (12, 12, 12), 'learning_rate': 'adaptive', 'solver': 'sgd'}\n",
      "0.373 (+/-0.167) for {'activation': 'relu', 'alpha': 0.05, 'hidden_layer_sizes': (12, 12, 12), 'learning_rate': 'adaptive', 'solver': 'adam'}\n"
     ]
    }
   ],
   "source": [
    "# Best parameter set\n",
    "print('Best parameters found:\\n', clf.best_params_)\n",
    "\n",
    "# All results\n",
    "means = clf.cv_results_['mean_test_score']\n",
    "stds = clf.cv_results_['std_test_score']\n",
    "for mean, std, params in zip(means, stds, clf.cv_results_['params']):\n",
    "    print(\"%0.3f (+/-%0.03f) for %r\" % (mean, std * 2, params))"
   ]
  },
  {
   "cell_type": "code",
   "execution_count": 21,
   "metadata": {},
   "outputs": [
    {
     "name": "stdout",
     "output_type": "stream",
     "text": [
      "Results on the test set:\n",
      "             precision    recall  f1-score   support\n",
      "\n",
      "       b'0'       0.00      0.00      0.00         1\n",
      "       b'1'       0.00      0.00      0.00         6\n",
      "       b'2'       0.46      1.00      0.63        12\n",
      "       b'3'       0.00      0.00      0.00         4\n",
      "       b'4'       0.00      0.00      0.00         2\n",
      "       b'5'       0.00      0.00      0.00         1\n",
      "\n",
      "avg / total       0.21      0.46      0.29        26\n",
      "\n"
     ]
    },
    {
     "name": "stderr",
     "output_type": "stream",
     "text": [
      "C:\\Users\\theda\\AppData\\Local\\Continuum\\anaconda3\\lib\\site-packages\\sklearn\\metrics\\classification.py:1135: UndefinedMetricWarning: Precision and F-score are ill-defined and being set to 0.0 in labels with no predicted samples.\n",
      "  'precision', 'predicted', average, warn_for)\n"
     ]
    }
   ],
   "source": [
    "y_true, y_pred = y_test , clf.predict(X_test)\n",
    "\n",
    "from sklearn.metrics import classification_report\n",
    "print('Results on the test set:')\n",
    "print(classification_report(y_true, y_pred))"
   ]
  },
  {
   "cell_type": "code",
   "execution_count": null,
   "metadata": {},
   "outputs": [],
   "source": []
  }
 ],
 "metadata": {
  "kernelspec": {
   "display_name": "Python 3",
   "language": "python",
   "name": "python3"
  },
  "language_info": {
   "codemirror_mode": {
    "name": "ipython",
    "version": 3
   },
   "file_extension": ".py",
   "mimetype": "text/x-python",
   "name": "python",
   "nbconvert_exporter": "python",
   "pygments_lexer": "ipython3",
   "version": "3.6.5"
  }
 },
 "nbformat": 4,
 "nbformat_minor": 2
}
